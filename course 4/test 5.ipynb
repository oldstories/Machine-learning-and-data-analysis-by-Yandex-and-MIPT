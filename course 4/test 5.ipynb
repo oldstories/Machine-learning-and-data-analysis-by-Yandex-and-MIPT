{
 "cells": [
  {
   "cell_type": "code",
   "execution_count": 91,
   "metadata": {},
   "outputs": [],
   "source": [
    "from scipy.stats import t\n",
    "import numpy as np\n",
    "import sklearn\n",
    "from sklearn import cross_validation, datasets, metrics, tree , model_selection, ensemble\n",
    "from sklearn.linear_model import LinearRegression\n",
    "import pandas as pd"
   ]
  },
  {
   "cell_type": "code",
   "execution_count": 77,
   "metadata": {},
   "outputs": [
    {
     "data": {
      "text/plain": [
       "0.9996862011846814"
      ]
     },
     "execution_count": 77,
     "metadata": {},
     "output_type": "execute_result"
    }
   ],
   "source": [
    "t = 5\n",
    "nu = 9.5\n",
    "scipy.stats.t.cdf(t, nu)"
   ]
  },
  {
   "cell_type": "code",
   "execution_count": null,
   "metadata": {},
   "outputs": [],
   "source": []
  },
  {
   "cell_type": "code",
   "execution_count": 78,
   "metadata": {},
   "outputs": [],
   "source": [
    "def z(X1, X2, sigma1, sigma2, n):\n",
    "    return (X1-X2)/np.sqrt((sigma1**2/n)+(sigma2**2/n))"
   ]
  },
  {
   "cell_type": "markdown",
   "metadata": {},
   "source": [
    "Уровень кальция в крови здоровых молодых женщин равен в среднем 9.5 милиграммам на децилитр и имеет характерное стандартное отклонение 0.4 мг/дл. В сельской больнице Гватемалы для 160 здоровых беременных женщин при первом обращении для ведения беременности был измерен уровень кальция; среднее значение составило 9.57 мг/дл. Можно ли утверждать, что средний уровень кальция в этой популяции отличается от 9.5?\n",
    "\n",
    "Посчитайте достигаемый уровень значимости. Поскольку известны только среднее и дисперсия, а не сама выборка, нельзя использовать стандартные функции критериев — нужно реализовать формулу достигаемого уровня значимости самостоятельно.\n",
    "\n",
    "Округлите ответ до четырёх знаков после десятичной точки."
   ]
  },
  {
   "cell_type": "code",
   "execution_count": 79,
   "metadata": {},
   "outputs": [
    {
     "name": "stdout",
     "output_type": "stream",
     "text": [
      "-1.565247584249859\n"
     ]
    }
   ],
   "source": [
    "X1 = 9.5\n",
    "sigma1 = 0.4\n",
    "n = 160\n",
    "X2 = 9.57\n",
    "sigma2 = 0.4\n",
    "z = z(X1, X2, sigma1, sigma2, n)\n",
    "print(z)\n",
    "#stats.norm.cdf(z)"
   ]
  },
  {
   "cell_type": "markdown",
   "metadata": {},
   "source": [
    "Коллеги, видимо я не понимаю какой-то маленький факт, связанный с заданием 4 и p-value вообще. Судя по тому, что здесь нет обсуждения, этот факт все понятен, а я где-то редкостно ээээ.. не понимаю, назовем это цензурно :)\n",
    "\n",
    "Возьмем пример с весом детей из лекции и двустороннюю гипотезу. Там тоже нет выборок, но есть стандартное отклонение.\n",
    "\n",
    "T=(3075-2800)/(500/sqrt(25))=2.75,\n",
    "\n",
    "p=2(1-St(24 ст.св,2.75))=2(1-0.994426085089858)=0.01114782982028410\n",
    "\n",
    "в лекиции p=7.1E-13.\n",
    "\n",
    "Что я делаю не так?\n",
    "\n",
    "как пойму, что не так, так пойму 4 задание "
   ]
  },
  {
   "cell_type": "code",
   "execution_count": 80,
   "metadata": {},
   "outputs": [
    {
     "name": "stdout",
     "output_type": "stream",
     "text": [
      "       carat  depth  table  price     x     y     z\n",
      "0       0.23   61.5   55.0    326  3.95  3.98  2.43\n",
      "1       0.21   59.8   61.0    326  3.89  3.84  2.31\n",
      "2       0.23   56.9   65.0    327  4.05  4.07  2.31\n",
      "3       0.29   62.4   58.0    334  4.20  4.23  2.63\n",
      "4       0.31   63.3   58.0    335  4.34  4.35  2.75\n",
      "5       0.24   62.8   57.0    336  3.94  3.96  2.48\n",
      "6       0.24   62.3   57.0    336  3.95  3.98  2.47\n",
      "7       0.26   61.9   55.0    337  4.07  4.11  2.53\n",
      "8       0.22   65.1   61.0    337  3.87  3.78  2.49\n",
      "9       0.23   59.4   61.0    338  4.00  4.05  2.39\n",
      "10      0.30   64.0   55.0    339  4.25  4.28  2.73\n",
      "11      0.23   62.8   56.0    340  3.93  3.90  2.46\n",
      "12      0.22   60.4   61.0    342  3.88  3.84  2.33\n",
      "13      0.31   62.2   54.0    344  4.35  4.37  2.71\n",
      "14      0.20   60.2   62.0    345  3.79  3.75  2.27\n",
      "15      0.32   60.9   58.0    345  4.38  4.42  2.68\n",
      "16      0.30   62.0   54.0    348  4.31  4.34  2.68\n",
      "17      0.30   63.4   54.0    351  4.23  4.29  2.70\n",
      "18      0.30   63.8   56.0    351  4.23  4.26  2.71\n",
      "19      0.30   62.7   59.0    351  4.21  4.27  2.66\n",
      "20      0.30   63.3   56.0    351  4.26  4.30  2.71\n",
      "21      0.23   63.8   55.0    352  3.85  3.92  2.48\n",
      "22      0.23   61.0   57.0    353  3.94  3.96  2.41\n",
      "23      0.31   59.4   62.0    353  4.39  4.43  2.62\n",
      "24      0.31   58.1   62.0    353  4.44  4.47  2.59\n",
      "25      0.23   60.4   58.0    354  3.97  4.01  2.41\n",
      "26      0.24   62.5   57.0    355  3.97  3.94  2.47\n",
      "27      0.30   62.2   57.0    357  4.28  4.30  2.67\n",
      "28      0.23   60.5   61.0    357  3.96  3.97  2.40\n",
      "29      0.23   60.9   57.0    357  3.96  3.99  2.42\n",
      "...      ...    ...    ...    ...   ...   ...   ...\n",
      "53910   0.70   60.5   58.0   2753  5.74  5.77  3.48\n",
      "53911   0.57   59.8   60.0   2753  5.43  5.38  3.23\n",
      "53912   0.61   61.8   59.0   2753  5.48  5.40  3.36\n",
      "53913   0.80   64.2   58.0   2753  5.84  5.81  3.74\n",
      "53914   0.84   63.7   59.0   2753  5.94  5.90  3.77\n",
      "53915   0.77   62.1   56.0   2753  5.84  5.86  3.63\n",
      "53916   0.74   63.1   59.0   2753  5.71  5.74  3.61\n",
      "53917   0.90   63.2   60.0   2753  6.12  6.09  3.86\n",
      "53918   0.76   59.3   62.0   2753  5.93  5.85  3.49\n",
      "53919   0.76   62.2   55.0   2753  5.89  5.87  3.66\n",
      "53920   0.70   62.4   60.0   2755  5.57  5.61  3.49\n",
      "53921   0.70   62.8   60.0   2755  5.59  5.65  3.53\n",
      "53922   0.70   63.1   59.0   2755  5.67  5.58  3.55\n",
      "53923   0.73   61.3   56.0   2756  5.80  5.84  3.57\n",
      "53924   0.73   61.6   55.0   2756  5.82  5.84  3.59\n",
      "53925   0.79   61.6   56.0   2756  5.95  5.97  3.67\n",
      "53926   0.71   61.9   56.0   2756  5.71  5.73  3.54\n",
      "53927   0.79   58.1   59.0   2756  6.06  6.13  3.54\n",
      "53928   0.79   61.4   58.0   2756  6.03  5.96  3.68\n",
      "53929   0.71   61.4   56.0   2756  5.76  5.73  3.53\n",
      "53930   0.71   60.5   55.0   2756  5.79  5.74  3.49\n",
      "53931   0.71   59.8   62.0   2756  5.74  5.73  3.43\n",
      "53932   0.70   60.5   59.0   2757  5.71  5.76  3.47\n",
      "53933   0.70   61.2   59.0   2757  5.69  5.72  3.49\n",
      "53934   0.72   62.7   59.0   2757  5.69  5.73  3.58\n",
      "53935   0.72   60.8   57.0   2757  5.75  5.76  3.50\n",
      "53936   0.72   63.1   55.0   2757  5.69  5.75  3.61\n",
      "53937   0.70   62.8   60.0   2757  5.66  5.68  3.56\n",
      "53938   0.86   61.0   58.0   2757  6.15  6.12  3.74\n",
      "53939   0.75   62.2   55.0   2757  5.83  5.87  3.64\n",
      "\n",
      "[53940 rows x 7 columns]\n"
     ]
    }
   ],
   "source": [
    "data = pd.read_csv(\"diamonds.txt\",delimiter=\"\\t\")\n",
    "print(data)"
   ]
  },
  {
   "cell_type": "code",
   "execution_count": 143,
   "metadata": {},
   "outputs": [],
   "source": [
    "#5\n",
    "#y = data['price']\n",
    "#data.pop('price')\n",
    "X = data\n",
    "(X_train, \n",
    " X_test, \n",
    " y_train, y_test) = sklearn.model_selection.train_test_split(X, y, \n",
    "                                     test_size=0.25, \n",
    "                                     random_state=1)\n",
    "#print(X)"
   ]
  },
  {
   "cell_type": "code",
   "execution_count": 144,
   "metadata": {},
   "outputs": [],
   "source": [
    "reg_1 = LinearRegression().fit(X_train, y_train)\n",
    "reg_2 = ensemble.RandomForestRegressor(random_state=1).fit(X_train, y_train)"
   ]
  },
  {
   "cell_type": "code",
   "execution_count": 145,
   "metadata": {},
   "outputs": [
    {
     "name": "stdout",
     "output_type": "stream",
     "text": [
      "(0.8615514393114848, 0.8720283788117894)\n"
     ]
    }
   ],
   "source": [
    "predict_1 = reg_1.predict(X_test)\n",
    "predict_2 = reg_2.predict(X_test)\n",
    "reg_1_score = reg_1.score(X_test, y_test)\n",
    "reg_2_score = reg_2.score(X_test, y_test)\n",
    "print(reg_1_score, reg_2_score)"
   ]
  },
  {
   "cell_type": "code",
   "execution_count": 146,
   "metadata": {},
   "outputs": [],
   "source": [
    "res_1 = abs(predict_1 - y_test.values)\n",
    "res_2 = abs(predict_2 - y_test.values)"
   ]
  },
  {
   "cell_type": "code",
   "execution_count": 147,
   "metadata": {},
   "outputs": [],
   "source": [
    "#T=(3075-2800)/(500/sqrt(25))=2.75,\n",
    "\n",
    "#p=2(1-St(24 ст.св,2.75))=2(1-0.994426085089858)=0.011147829820284"
   ]
  },
  {
   "cell_type": "code",
   "execution_count": 148,
   "metadata": {},
   "outputs": [
    {
     "data": {
      "text/plain": [
       "Ttest_relResult(statistic=12.930817614948769, pvalue=5.074175575660666e-38)"
      ]
     },
     "execution_count": 148,
     "metadata": {},
     "output_type": "execute_result"
    }
   ],
   "source": [
    "scipy.stats.ttest_rel(res_1, res_2)"
   ]
  },
  {
   "cell_type": "code",
   "execution_count": 153,
   "metadata": {},
   "outputs": [
    {
     "name": "stdout",
     "output_type": "stream",
     "text": [
      "(890.3764004285604, 803.6143383081302)\n"
     ]
    }
   ],
   "source": [
    "print(res_1.mean(), res_2.mean())"
   ]
  },
  {
   "cell_type": "code",
   "execution_count": 150,
   "metadata": {},
   "outputs": [],
   "source": [
    "res_3 = abs(res_1 - res_2)"
   ]
  },
  {
   "cell_type": "code",
   "execution_count": 155,
   "metadata": {},
   "outputs": [
    {
     "name": "stdout",
     "output_type": "stream",
     "text": [
      "95% confidence interval: [59.124395, 114.399729]\n"
     ]
    }
   ],
   "source": [
    "from statsmodels.stats.weightstats import *\n",
    "cm = CompareMeans(DescrStatsW(res_1), DescrStatsW(res_2))\n",
    "print \"95%% confidence interval: [%f, %f]\" % cm.tconfint_diff(usevar='unequal')"
   ]
  },
  {
   "cell_type": "code",
   "execution_count": 156,
   "metadata": {},
   "outputs": [
    {
     "data": {
      "text/plain": [
       "(59.12439539216802, 114.39972884869212)"
      ]
     },
     "execution_count": 156,
     "metadata": {},
     "output_type": "execute_result"
    }
   ],
   "source": [
    "CompareMeans(DescrStatsW(res_1), DescrStatsW(res_2)).tconfint_diff()"
   ]
  },
  {
   "cell_type": "code",
   "execution_count": 157,
   "metadata": {},
   "outputs": [
    {
     "name": "stdout",
     "output_type": "stream",
     "text": [
      "95% confidence interval: [73.610088, 99.914037]\n"
     ]
    }
   ],
   "source": [
    "print \"95%% confidence interval: [%f, %f]\" % DescrStatsW(res_1 - res_2).tconfint_mean()"
   ]
  },
  {
   "cell_type": "code",
   "execution_count": null,
   "metadata": {},
   "outputs": [],
   "source": []
  }
 ],
 "metadata": {
  "kernelspec": {
   "display_name": "Python 2",
   "language": "python",
   "name": "python2"
  },
  "language_info": {
   "codemirror_mode": {
    "name": "ipython",
    "version": 2
   },
   "file_extension": ".py",
   "mimetype": "text/x-python",
   "name": "python",
   "nbconvert_exporter": "python",
   "pygments_lexer": "ipython2",
   "version": "2.7.15"
  }
 },
 "nbformat": 4,
 "nbformat_minor": 2
}
