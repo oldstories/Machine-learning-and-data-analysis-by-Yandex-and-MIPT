{
 "cells": [
  {
   "cell_type": "code",
   "execution_count": 1,
   "metadata": {},
   "outputs": [
    {
     "name": "stderr",
     "output_type": "stream",
     "text": [
      "C:\\Users\\oldst\\Anaconda2\\lib\\site-packages\\sklearn\\cross_validation.py:41: DeprecationWarning: This module was deprecated in version 0.18 in favor of the model_selection module into which all the refactored classes and functions are moved. Also note that the interface of the new CV iterators are different from that of this module. This module will be removed in 0.20.\n",
      "  \"This module will be removed in 0.20.\", DeprecationWarning)\n"
     ]
    }
   ],
   "source": [
    "import numpy as np\n",
    "import pandas as pd\n",
    "\n",
    "import scipy\n",
    "from statsmodels.stats.weightstats import *\n",
    "from statsmodels.stats.proportion import proportion_confint\n",
    "import sklearn\n",
    "from sklearn import cross_validation, datasets, metrics, tree , model_selection, ensemble\n",
    "from sklearn.linear_model import LogisticRegression"
   ]
  },
  {
   "cell_type": "code",
   "execution_count": 74,
   "metadata": {},
   "outputs": [],
   "source": [
    "#task_1 = Lagrange\n",
    "#task_2 = 0,1 1,0 & n"
   ]
  },
  {
   "cell_type": "markdown",
   "metadata": {},
   "source": [
    "В одном из выпусков программы \"Разрушители легенд\" проверялось, действительно ли заразительна зевота. В эксперименте участвовало 50 испытуемых, проходивших собеседование на программу. Каждый из них разговаривал с рекрутером; в конце 34 из 50 бесед рекрутер зевал. Затем испытуемых просили подождать решения рекрутера в соседней пустой комнате.\n",
    "\n",
    "Во время ожидания 10 из 34 испытуемых экспериментальной группы и 4 из 16 испытуемых контрольной начали зевать. Таким образом, разница в доле зевающих людей в этих двух группах составила примерно 4.4%. Ведущие заключили, что миф о заразительности зевоты подтверждён.\n",
    "\n",
    "Можно ли утверждать, что доли зевающих в контрольной и экспериментальной группах отличаются статистически значимо? Посчитайте достигаемый уровень значимости при альтернативе заразительности зевоты, округлите до четырёх знаков после десятичной точки."
   ]
  },
  {
   "cell_type": "code",
   "execution_count": 65,
   "metadata": {},
   "outputs": [
    {
     "name": "stdout",
     "output_type": "stream",
     "text": [
      "(array([1., 1., 1., 1., 1., 1., 1., 1., 1., 1., 0., 0., 0., 0., 0., 0., 0.,\n",
      "       0., 0., 0., 0., 0., 0., 0., 0., 0., 0., 0., 0., 0., 0., 0., 0., 0.]), 34)\n",
      "(array([1., 1., 1., 1., 0., 0., 0., 0., 0., 0., 0., 0., 0., 0., 0., 0.]), 16)\n"
     ]
    }
   ],
   "source": [
    "exp = np.array([])\n",
    "for i in range(10):\n",
    "    exp = np.append(exp, 1)\n",
    "for i in range(34-10):\n",
    "    exp = np.append(exp, 0)\n",
    "test = np.array([])\n",
    "for i in range(4):\n",
    "    test = np.append(test, 1)\n",
    "for i in range(16-4):\n",
    "    test = np.append(test, 0)\n",
    "print(exp, len(exp))\n",
    "print(test, len(test))"
   ]
  },
  {
   "cell_type": "code",
   "execution_count": 55,
   "metadata": {},
   "outputs": [],
   "source": [
    "def proportions_diff_confint_ind(sample1, sample2, alpha = 0.05):    \n",
    "    z = scipy.stats.norm.ppf(1 - alpha / 2.)\n",
    "    \n",
    "    p1 = float(sum(sample1)) / len(sample1)\n",
    "    p2 = float(sum(sample2)) / len(sample2)\n",
    "    \n",
    "    left_boundary = (p1 - p2) - z * np.sqrt(p1 * (1 - p1)/ len(sample1) + p2 * (1 - p2)/ len(sample2))\n",
    "    right_boundary = (p1 - p2) + z * np.sqrt(p1 * (1 - p1)/ len(sample1) + p2 * (1 - p2)/ len(sample2))\n",
    "    \n",
    "    return (left_boundary, right_boundary)"
   ]
  },
  {
   "cell_type": "code",
   "execution_count": 56,
   "metadata": {},
   "outputs": [],
   "source": [
    "def proportions_diff_z_stat_ind(sample1, sample2):\n",
    "    n1 = len(sample1)\n",
    "    n2 = len(sample2)\n",
    "    \n",
    "    p1 = float(sum(sample1)) / n1\n",
    "    p2 = float(sum(sample2)) / n2 \n",
    "    P = float(p1*n1 + p2*n2) / (n1 + n2)\n",
    "    \n",
    "    return (p1 - p2) / np.sqrt(P * (1 - P) * (1. / n1 + 1. / n2))"
   ]
  },
  {
   "cell_type": "code",
   "execution_count": 57,
   "metadata": {},
   "outputs": [],
   "source": [
    "def proportions_diff_z_test(z_stat, alternative = 'two-sided'):\n",
    "    if alternative not in ('two-sided', 'less', 'greater'):\n",
    "        raise ValueError(\"alternative not recognized\\n\"\n",
    "                         \"should be 'two-sided', 'less' or 'greater'\")\n",
    "    \n",
    "    if alternative == 'two-sided':\n",
    "        return 2 * (1 - scipy.stats.norm.cdf(np.abs(z_stat)))\n",
    "    \n",
    "    if alternative == 'less':\n",
    "        return scipy.stats.norm.cdf(z_stat)\n",
    "\n",
    "    if alternative == 'greater':\n",
    "        return 1 - scipy.stats.norm.cdf(z_stat)"
   ]
  },
  {
   "cell_type": "code",
   "execution_count": 66,
   "metadata": {},
   "outputs": [
    {
     "name": "stdout",
     "output_type": "stream",
     "text": [
      "p-value: 0.745900\n"
     ]
    }
   ],
   "source": [
    "print \"p-value: %f\" % round(proportions_diff_z_test(proportions_diff_z_stat_ind(exp, test)), 4)"
   ]
  },
  {
   "cell_type": "markdown",
   "metadata": {},
   "source": [
    "Критерий Стьюдента:\n",
    "\n",
    "$H_0\\colon$ Зевота не заразительна.\n",
    "\n",
    "$H_1\\colon$ Зевота заразительна."
   ]
  },
  {
   "cell_type": "code",
   "execution_count": 67,
   "metadata": {},
   "outputs": [
    {
     "data": {
      "text/plain": [
       "Ttest_indResult(statistic=0.3218356015508727, pvalue=0.7497799854200413)"
      ]
     },
     "execution_count": 67,
     "metadata": {},
     "output_type": "execute_result"
    }
   ],
   "source": [
    "from statsmodels.stats.weightstats import *\n",
    "scipy.stats.ttest_ind(exp, test, equal_var = False)"
   ]
  },
  {
   "cell_type": "code",
   "execution_count": 68,
   "metadata": {},
   "outputs": [
    {
     "name": "stdout",
     "output_type": "stream",
     "text": [
      "95% confidence interval for a difference between proportions: [-0.217558, 0.305793]\n"
     ]
    }
   ],
   "source": [
    "print \"95%% confidence interval for a difference between proportions: [%f, %f]\" %\\\n",
    "      proportions_diff_confint_ind(exp, test)"
   ]
  },
  {
   "cell_type": "code",
   "execution_count": 69,
   "metadata": {},
   "outputs": [
    {
     "name": "stdout",
     "output_type": "stream",
     "text": [
      "p-value: 0.745861\n"
     ]
    }
   ],
   "source": [
    "print \"p-value: %f\" % proportions_diff_z_test(proportions_diff_z_stat_ind(exp, test))"
   ]
  },
  {
   "cell_type": "code",
   "execution_count": 70,
   "metadata": {},
   "outputs": [
    {
     "name": "stdout",
     "output_type": "stream",
     "text": [
      "p-value: 0.372930\n"
     ]
    }
   ],
   "source": [
    "print \"p-value: %f\" % proportions_diff_z_test(proportions_diff_z_stat_ind(exp, test), 'greater')"
   ]
  },
  {
   "cell_type": "code",
   "execution_count": 71,
   "metadata": {},
   "outputs": [
    {
     "name": "stdout",
     "output_type": "stream",
     "text": [
      "p-value: 0.627070\n"
     ]
    }
   ],
   "source": [
    "print \"p-value: %f\" % proportions_diff_z_test(proportions_diff_z_stat_ind(exp, test), 'less')"
   ]
  },
  {
   "cell_type": "code",
   "execution_count": null,
   "metadata": {},
   "outputs": [],
   "source": [
    "#answer = 0.3729"
   ]
  },
  {
   "cell_type": "code",
   "execution_count": 2,
   "metadata": {},
   "outputs": [
    {
     "name": "stdout",
     "output_type": "stream",
     "text": [
      "        X1     X2     X3    X4    X5     X6  real\n",
      "0    214.8  131.0  131.1   9.0   9.7  141.0     1\n",
      "1    214.6  129.7  129.7   8.1   9.5  141.7     1\n",
      "2    214.8  129.7  129.7   8.7   9.6  142.2     1\n",
      "3    214.8  129.7  129.6   7.5  10.4  142.0     1\n",
      "4    215.0  129.6  129.7  10.4   7.7  141.8     1\n",
      "5    215.7  130.8  130.5   9.0  10.1  141.4     1\n",
      "6    215.5  129.5  129.7   7.9   9.6  141.6     1\n",
      "7    214.5  129.6  129.2   7.2  10.7  141.7     1\n",
      "8    214.9  129.4  129.7   8.2  11.0  141.9     1\n",
      "9    215.2  130.4  130.3   9.2  10.0  140.7     1\n",
      "10   215.3  130.4  130.3   7.9  11.7  141.8     1\n",
      "11   215.1  129.5  129.6   7.7  10.5  142.2     1\n",
      "12   215.2  130.8  129.6   7.9  10.8  141.4     1\n",
      "13   214.7  129.7  129.7   7.7  10.9  141.7     1\n",
      "14   215.1  129.9  129.7   7.7  10.8  141.8     1\n",
      "15   214.5  129.8  129.8   9.3   8.5  141.6     1\n",
      "16   214.6  129.9  130.1   8.2   9.8  141.7     1\n",
      "17   215.0  129.9  129.7   9.0   9.0  141.9     1\n",
      "18   215.2  129.6  129.6   7.4  11.5  141.5     1\n",
      "19   214.7  130.2  129.9   8.6  10.0  141.9     1\n",
      "20   215.0  129.9  129.3   8.4  10.0  141.4     1\n",
      "21   215.6  130.5  130.0   8.1  10.3  141.6     1\n",
      "22   215.3  130.6  130.0   8.4  10.8  141.5     1\n",
      "23   215.7  130.2  130.0   8.7  10.0  141.6     1\n",
      "24   215.1  129.7  129.9   7.4  10.8  141.1     1\n",
      "25   215.3  130.4  130.4   8.0  11.0  142.3     1\n",
      "26   215.5  130.2  130.1   8.9   9.8  142.4     1\n",
      "27   215.1  130.3  130.3   9.8   9.5  141.9     1\n",
      "28   215.1  130.0  130.0   7.4  10.5  141.8     1\n",
      "29   214.8  129.7  129.3   8.3   9.0  142.0     1\n",
      "..     ...    ...    ...   ...   ...    ...   ...\n",
      "170  213.9  130.7  130.5   8.7  11.5  137.8     0\n",
      "171  214.2  130.6  130.4  12.0  10.2  139.6     0\n",
      "172  214.8  130.5  130.3  11.8  10.5  139.4     0\n",
      "173  214.8  129.6  130.0  10.4  11.6  139.2     0\n",
      "174  214.8  130.1  130.0  11.4  10.5  139.6     0\n",
      "175  214.9  130.4  130.2  11.9  10.7  139.0     0\n",
      "176  214.3  130.1  130.1  11.6  10.5  139.7     0\n",
      "177  214.5  130.4  130.0   9.9  12.0  139.6     0\n",
      "178  214.8  130.5  130.3  10.2  12.1  139.1     0\n",
      "179  214.5  130.2  130.4   8.2  11.8  137.8     0\n",
      "180  215.0  130.4  130.1  11.4  10.7  139.1     0\n",
      "181  214.8  130.6  130.6   8.0  11.4  138.7     0\n",
      "182  215.0  130.5  130.1  11.0  11.4  139.3     0\n",
      "183  214.6  130.5  130.4  10.1  11.4  139.3     0\n",
      "184  214.7  130.2  130.1  10.7  11.1  139.5     0\n",
      "185  214.7  130.4  130.0  11.5  10.7  139.4     0\n",
      "186  214.5  130.4  130.0   8.0  12.2  138.5     0\n",
      "187  214.8  130.0  129.7  11.4  10.6  139.2     0\n",
      "188  214.8  129.9  130.2   9.6  11.9  139.4     0\n",
      "189  214.6  130.3  130.2  12.7   9.1  139.2     0\n",
      "190  215.1  130.2  129.8  10.2  12.0  139.4     0\n",
      "191  215.4  130.5  130.6   8.8  11.0  138.6     0\n",
      "192  214.7  130.3  130.2  10.8  11.1  139.2     0\n",
      "193  215.0  130.5  130.3   9.6  11.0  138.5     0\n",
      "194  214.9  130.3  130.5  11.6  10.6  139.8     0\n",
      "195  215.0  130.4  130.3   9.9  12.1  139.6     0\n",
      "196  215.1  130.3  129.9  10.3  11.5  139.7     0\n",
      "197  214.8  130.3  130.4  10.6  11.1  140.0     0\n",
      "198  214.7  130.7  130.8  11.2  11.2  139.4     0\n",
      "199  214.3  129.9  129.9  10.2  11.5  139.6     0\n",
      "\n",
      "[200 rows x 7 columns]\n"
     ]
    }
   ],
   "source": [
    "data = pd.read_csv(\"banknotes.txt\",delimiter=\"\\t\")\n",
    "print(data)"
   ]
  },
  {
   "cell_type": "code",
   "execution_count": 4,
   "metadata": {},
   "outputs": [],
   "source": [
    "data = pd.read_csv(\"banknotes.txt\",delimiter=\"\\t\")\n",
    "y = data['real']\n",
    "X = data.drop('real', 1)\n",
    "(X_train, \n",
    " X_test, \n",
    " y_train, y_test) = sklearn.cross_validation.train_test_split(X, y, \n",
    "                                     test_size=0.25, \n",
    "                                     random_state=1)"
   ]
  },
  {
   "cell_type": "code",
   "execution_count": 27,
   "metadata": {},
   "outputs": [],
   "source": [
    "X_train_1 = X_train[['X1', 'X2', 'X3']] \n",
    "X_train_2 = X_train[['X4', 'X5', 'X6']]\n",
    "X_test_1 = X_test[['X1', 'X2', 'X3']] \n",
    "X_test_2 = X_test[['X4', 'X5', 'X6']]"
   ]
  },
  {
   "cell_type": "code",
   "execution_count": 28,
   "metadata": {},
   "outputs": [],
   "source": [
    "regressor_1 = LogisticRegression().fit(X_train_1, y_train)\n",
    "regressor_2 = LogisticRegression().fit(X_train_2, y_train)"
   ]
  },
  {
   "cell_type": "code",
   "execution_count": 18,
   "metadata": {},
   "outputs": [
    {
     "name": "stdout",
     "output_type": "stream",
     "text": [
      "(array([1, 1, 1, 0, 0, 0, 1, 1, 1, 1, 0, 1, 1, 1, 0, 0, 0, 0, 0, 1, 1, 0,\n",
      "       1, 1, 1, 0, 1, 1, 0, 0, 1, 0, 0, 0, 0, 1, 0, 0, 0, 0, 1, 0, 0, 1,\n",
      "       1, 0, 1, 0, 0, 0], dtype=int64), array([1, 1, 1, 0, 0, 0, 1, 1, 1, 0, 0, 1, 1, 1, 1, 0, 0, 1, 0, 1, 1, 1,\n",
      "       1, 1, 1, 0, 1, 1, 0, 1, 1, 0, 0, 0, 0, 1, 0, 1, 1, 0, 0, 0, 0, 1,\n",
      "       1, 1, 0, 1, 0, 0], dtype=int64))\n"
     ]
    }
   ],
   "source": [
    "res_1 = regressor_1.predict(X_test_1)\n",
    "res_2 = regressor_2.predict(X_test_2)\n",
    "print(res_1, res_2)"
   ]
  },
  {
   "cell_type": "code",
   "execution_count": 33,
   "metadata": {},
   "outputs": [],
   "source": [
    "def proportions_diff_confint_rel(sample1, sample2, alpha = 0.05):\n",
    "    z = scipy.stats.norm.ppf(1 - alpha / 2.)\n",
    "    sample = zip(sample1, sample2)\n",
    "    n = len(sample)\n",
    "        \n",
    "    f = sum([1 if (x[0] == 1 and x[1] == 0) else 0 for x in sample])\n",
    "    g = sum([1 if (x[0] == 0 and x[1] == 1) else 0 for x in sample])\n",
    "    \n",
    "    left_boundary = float(f - g) / n  - z * np.sqrt(float((f + g)) / n**2 - float((f - g)**2) / n**3)\n",
    "    right_boundary = float(f - g) / n  + z * np.sqrt(float((f + g)) / n**2 - float((f - g)**2) / n**3)\n",
    "    return (left_boundary, right_boundary)"
   ]
  },
  {
   "cell_type": "code",
   "execution_count": 34,
   "metadata": {},
   "outputs": [],
   "source": [
    "def proportions_diff_z_stat_rel(sample1, sample2):\n",
    "    sample = zip(sample1, sample2)\n",
    "    n = len(sample)\n",
    "    \n",
    "    f = sum([1 if (x[0] == 1 and x[1] == 0) else 0 for x in sample])\n",
    "    g = sum([1 if (x[0] == 0 and x[1] == 1) else 0 for x in sample])\n",
    "    \n",
    "    return float(f - g) / np.sqrt(f + g - float((f - g)**2) / n )"
   ]
  },
  {
   "cell_type": "code",
   "execution_count": 35,
   "metadata": {},
   "outputs": [],
   "source": [
    "def proportions_diff_z_test(z_stat, alternative = 'two-sided'):\n",
    "    if alternative not in ('two-sided', 'less', 'greater'):\n",
    "        raise ValueError(\"alternative not recognized\\n\"\n",
    "                         \"should be 'two-sided', 'less' or 'greater'\")\n",
    "    \n",
    "    if alternative == 'two-sided':\n",
    "        return 2 * (1 - scipy.stats.norm.cdf(np.abs(z_stat)))\n",
    "    \n",
    "    if alternative == 'less':\n",
    "        return scipy.stats.norm.cdf(z_stat)\n",
    "\n",
    "    if alternative == 'greater':\n",
    "        return 1 - scipy.stats.norm.cdf(z_stat)"
   ]
  },
  {
   "cell_type": "code",
   "execution_count": 51,
   "metadata": {},
   "outputs": [
    {
     "name": "stdout",
     "output_type": "stream",
     "text": [
      "p-value: 0.003297\n"
     ]
    }
   ],
   "source": [
    "print \"p-value: %f\" % proportions_diff_z_test(proportions_diff_z_stat_rel(y_test!=res_1,y_test!=res_2))"
   ]
  },
  {
   "cell_type": "code",
   "execution_count": 52,
   "metadata": {},
   "outputs": [
    {
     "name": "stdout",
     "output_type": "stream",
     "text": [
      "p-value: 0.998352\n"
     ]
    }
   ],
   "source": [
    "print \"p-value: %f\" % proportions_diff_z_test(proportions_diff_z_stat_rel(y_test!=res_1,y_test!=res_2), 'less')"
   ]
  },
  {
   "cell_type": "code",
   "execution_count": 53,
   "metadata": {},
   "outputs": [
    {
     "name": "stdout",
     "output_type": "stream",
     "text": [
      "95% confidence interval for a difference between proportions: [0.059945, 0.300055]\n"
     ]
    }
   ],
   "source": [
    "print \"95%% confidence interval for a difference between proportions: [%f, %f]\" \\\n",
    "      % proportions_diff_confint_rel(y_test!=res_1,y_test!=res_2)"
   ]
  },
  {
   "cell_type": "code",
   "execution_count": 75,
   "metadata": {},
   "outputs": [],
   "source": [
    "#task_4 = 3\n",
    "#task_5 = 0.0599"
   ]
  },
  {
   "cell_type": "markdown",
   "metadata": {},
   "source": [
    "Ежегодно более 200000 людей по всему миру сдают стандартизированный экзамен GMAT при поступлении на программы MBA. Средний результат составляет 525 баллов, стандартное отклонение — 100 баллов.\n",
    "\n",
    "Сто студентов закончили специальные подготовительные курсы и сдали экзамен. Средний полученный ими балл — 541.4. Проверьте гипотезу о неэффективности программы против односторонней альтернативы о том, что программа работает. Отвергается ли на уровне значимости 0.05 нулевая гипотеза? Введите достигаемый уровень значимости, округлённый до 4 знаков после десятичной точки. "
   ]
  },
  {
   "cell_type": "code",
   "execution_count": 72,
   "metadata": {},
   "outputs": [
    {
     "name": "stdout",
     "output_type": "stream",
     "text": [
      "0.0505\n"
     ]
    }
   ],
   "source": [
    "mu = 541.4\n",
    "mu0 = 525\n",
    "sigma = 100\n",
    "n = 100\n",
    "z = (mu - mu0) / (sigma/(n**0.5))\n",
    "print (round(1 - scipy.stats.norm.cdf(z), 4))"
   ]
  },
  {
   "cell_type": "markdown",
   "metadata": {},
   "source": [
    "Оцените теперь эффективность подготовительных курсов, средний балл 100 выпускников которых равен 541.5. Отвергается ли на уровне значимости 0.05 та же самая нулевая гипотеза против той же самой альтернативы? Введите достигаемый уровень значимости, округлённый до 4 знаков после десятичной точки. "
   ]
  },
  {
   "cell_type": "code",
   "execution_count": 73,
   "metadata": {},
   "outputs": [
    {
     "name": "stdout",
     "output_type": "stream",
     "text": [
      "0.0495\n"
     ]
    }
   ],
   "source": [
    "mu = 541.5\n",
    "mu0 = 525\n",
    "sigma = 100\n",
    "n = 100\n",
    "z = (mu - mu0) / (sigma/(n**0.5))\n",
    "print (round(1 - scipy.stats.norm.cdf(z), 4))"
   ]
  },
  {
   "cell_type": "code",
   "execution_count": 76,
   "metadata": {},
   "outputs": [],
   "source": [
    "#task_6 = 0.0505\n",
    "#task_7 = 0.0495"
   ]
  }
 ],
 "metadata": {
  "kernelspec": {
   "display_name": "Python 2",
   "language": "python",
   "name": "python2"
  },
  "language_info": {
   "codemirror_mode": {
    "name": "ipython",
    "version": 2
   },
   "file_extension": ".py",
   "mimetype": "text/x-python",
   "name": "python",
   "nbconvert_exporter": "python",
   "pygments_lexer": "ipython2",
   "version": "2.7.15"
  }
 },
 "nbformat": 4,
 "nbformat_minor": 2
}
