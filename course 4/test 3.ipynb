{
 "cells": [
  {
   "cell_type": "code",
   "execution_count": 252,
   "metadata": {},
   "outputs": [],
   "source": [
    "import numpy as np\n",
    "import pandas as pd\n",
    "import scipy.stats as sts\n",
    "from statsmodels.stats.weightstats import *\n",
    "from statsmodels.stats.proportion import proportion_confint\n",
    "%matplotlib inline"
   ]
  },
  {
   "cell_type": "code",
   "execution_count": 253,
   "metadata": {},
   "outputs": [
    {
     "data": {
      "text/plain": [
       "-2.9677379253417833"
      ]
     },
     "execution_count": 253,
     "metadata": {},
     "output_type": "execute_result"
    }
   ],
   "source": [
    "scipy.stats.norm.ppf(0.0015)"
   ]
  },
  {
   "cell_type": "code",
   "execution_count": null,
   "metadata": {},
   "outputs": [],
   "source": []
  },
  {
   "cell_type": "code",
   "execution_count": null,
   "metadata": {},
   "outputs": [],
   "source": []
  },
  {
   "cell_type": "code",
   "execution_count": 254,
   "metadata": {},
   "outputs": [],
   "source": [
    "men_aspirin = 11037.0\n",
    "men_placebo = 11034.0\n",
    "men_aspirin_heart_attack = 104.0\n",
    "men_placebo_heart_attack = 189.0"
   ]
  },
  {
   "cell_type": "code",
   "execution_count": 255,
   "metadata": {},
   "outputs": [
    {
     "data": {
      "text/plain": [
       "0.0077"
      ]
     },
     "execution_count": 255,
     "metadata": {},
     "output_type": "execute_result"
    }
   ],
   "source": [
    "round(men_placebo_heart_attack/men_placebo - men_aspirin_heart_attack/men_aspirin, 4)"
   ]
  },
  {
   "cell_type": "code",
   "execution_count": 256,
   "metadata": {},
   "outputs": [],
   "source": [
    "data_placebo = np.array([])\n",
    "for i in range(189):\n",
    "    data_placebo = np.append(data_placebo, 1)\n",
    "for i in range(11034-189):\n",
    "    data_placebo = np.append(data_placebo, 0)\n",
    "data_aspirin = np.array([])\n",
    "for i in range(104):\n",
    "    data_aspirin = np.append(data_aspirin, 1)\n",
    "for i in range(11037-104):\n",
    "    data_aspirin = np.append(data_aspirin, 0)\n",
    "    \n",
    "def proportions_confint_diff_ind(sample1, sample2, alpha = 0.05):    \n",
    "    z = scipy.stats.norm.ppf(1 - alpha / 2.)   \n",
    "    p1 = float(sum(sample1)) / len(sample1)\n",
    "    p2 = float(sum(sample2)) / len(sample2)\n",
    "    \n",
    "    left_boundary = (p1 - p2) - z * np.sqrt(p1 * (1 - p1)/ len(sample1) + p2 * (1 - p2)/ len(sample2))\n",
    "    right_boundary = (p1 - p2) + z * np.sqrt(p1 * (1 - p1)/ len(sample1) + p2 * (1 - p2)/ len(sample2))\n",
    "    \n",
    "    return (left_boundary, right_boundary)"
   ]
  },
  {
   "cell_type": "code",
   "execution_count": 257,
   "metadata": {},
   "outputs": [
    {
     "name": "stdout",
     "output_type": "stream",
     "text": [
      "confidence interval: [0.004688, 0.010724]\n"
     ]
    },
    {
     "data": {
      "text/plain": [
       "0.0107"
      ]
     },
     "execution_count": 257,
     "metadata": {},
     "output_type": "execute_result"
    }
   ],
   "source": [
    "print \"confidence interval: [%f, %f]\" % proportions_confint_diff_ind(data_placebo, data_aspirin)\n",
    "round(proportions_confint_diff_ind(data_placebo, data_aspirin)[1],4)"
   ]
  },
  {
   "cell_type": "code",
   "execution_count": 258,
   "metadata": {},
   "outputs": [],
   "source": [
    "def odds(bad, _all):\n",
    "    return (bad/_all)/(1-(bad/_all))"
   ]
  },
  {
   "cell_type": "code",
   "execution_count": 259,
   "metadata": {},
   "outputs": [
    {
     "data": {
      "text/plain": [
       "1.8321"
      ]
     },
     "execution_count": 259,
     "metadata": {},
     "output_type": "execute_result"
    }
   ],
   "source": [
    "aspirin_odds = odds(men_aspirin_heart_attack, men_aspirin)\n",
    "placebo_odds = odds(men_placebo_heart_attack, men_placebo)\n",
    "round(placebo_odds/aspirin_odds, 4)"
   ]
  },
  {
   "cell_type": "code",
   "execution_count": 260,
   "metadata": {},
   "outputs": [],
   "source": [
    "def get_bootstrap_samples(data, n_samples):\n",
    "    indices = np.random.randint(0, len(data), (n_samples, len(data)), dtype='int')\n",
    "    samples = data[indices]\n",
    "    return samples"
   ]
  },
  {
   "cell_type": "code",
   "execution_count": 261,
   "metadata": {},
   "outputs": [],
   "source": [
    "def stat_intervals(stat, alpha):\n",
    "    boundaries = np.percentile(stat, [100 * alpha / 2., 100 * (1 - alpha / 2.)])\n",
    "    return boundaries"
   ]
  },
  {
   "cell_type": "code",
   "execution_count": 278,
   "metadata": {},
   "outputs": [],
   "source": [
    "data_placebo = np.array([])\n",
    "for i in range(189):\n",
    "    data_placebo = np.append(data_placebo, 1)\n",
    "for i in range(11034-189):\n",
    "    data_placebo = np.append(data_placebo, 0)\n",
    "data_aspirin = np.array([])\n",
    "for i in range(104):\n",
    "    data_aspirin = np.append(data_aspirin, 1)\n",
    "for i in range(11037-104):\n",
    "    data_aspirin = np.append(data_aspirin, 0)"
   ]
  },
  {
   "cell_type": "code",
   "execution_count": 279,
   "metadata": {},
   "outputs": [],
   "source": [
    "np.random.seed(0)\n",
    "boot_placebo = get_bootstrap_samples(data_placebo, 1000)\n",
    "placebo_chances_vec = np.array([])\n",
    "for i in range(1000):\n",
    "    placebo_chances_vec = np.append(placebo_chances_vec, odds(sum(boot_placebo[i]), len(boot_placebo[i])))\n",
    "boot_aspirin = get_bootstrap_samples(data_aspirin, 1000)\n",
    "aspirin_chances_vec = np.array([])\n",
    "for i in range(1000):\n",
    "    aspirin_chances_vec = np.append(aspirin_chances_vec, odds(sum(boot_aspirin[i]), len(boot_aspirin[i])))"
   ]
  },
  {
   "cell_type": "code",
   "execution_count": 280,
   "metadata": {},
   "outputs": [],
   "source": [
    "dif_chances_vec = np.array([])\n",
    "for i in range(len(aspirin_chances_vec)):\n",
    "    dif_chances_vec = np.append(dif_chances_vec, placebo_chances_vec[i]/aspirin_chances_vec[i])"
   ]
  },
  {
   "cell_type": "code",
   "execution_count": 281,
   "metadata": {},
   "outputs": [
    {
     "name": "stdout",
     "output_type": "stream",
     "text": [
      "95% confidence interval for chances [1.46286276 2.35093673]\n"
     ]
    }
   ],
   "source": [
    "print \"95% confidence interval for chances\",  stat_intervals(dif_chances_vec, 0.05)"
   ]
  },
  {
   "cell_type": "code",
   "execution_count": 282,
   "metadata": {},
   "outputs": [
    {
     "data": {
      "text/plain": [
       "1.4629"
      ]
     },
     "execution_count": 282,
     "metadata": {},
     "output_type": "execute_result"
    }
   ],
   "source": [
    "round(stat_intervals(dif_chances_vec, 0.05)[0], 4)"
   ]
  },
  {
   "cell_type": "code",
   "execution_count": null,
   "metadata": {},
   "outputs": [],
   "source": []
  }
 ],
 "metadata": {
  "kernelspec": {
   "display_name": "Python 2",
   "language": "python",
   "name": "python2"
  },
  "language_info": {
   "codemirror_mode": {
    "name": "ipython",
    "version": 2
   },
   "file_extension": ".py",
   "mimetype": "text/x-python",
   "name": "python",
   "nbconvert_exporter": "python",
   "pygments_lexer": "ipython2",
   "version": "2.7.15"
  }
 },
 "nbformat": 4,
 "nbformat_minor": 2
}
