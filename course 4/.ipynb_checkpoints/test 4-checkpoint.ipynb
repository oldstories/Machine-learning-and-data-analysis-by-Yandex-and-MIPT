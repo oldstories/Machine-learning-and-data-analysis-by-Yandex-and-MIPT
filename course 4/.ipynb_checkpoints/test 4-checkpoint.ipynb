{
 "cells": [
  {
   "cell_type": "code",
   "execution_count": 93,
   "metadata": {},
   "outputs": [],
   "source": [
    "import numpy as np\n",
    "from scipy import stats\n",
    "import pandas as pd"
   ]
  },
  {
   "cell_type": "code",
   "execution_count": null,
   "metadata": {},
   "outputs": [],
   "source": []
  },
  {
   "cell_type": "code",
   "execution_count": 96,
   "metadata": {},
   "outputs": [
    {
     "data": {
      "text/plain": [
       "0.08222258891386608"
      ]
     },
     "execution_count": 96,
     "metadata": {},
     "output_type": "execute_result"
    }
   ],
   "source": [
    "stats.binom_test(67, 100, 0.75, alternative = 'two-sided')"
   ]
  },
  {
   "cell_type": "code",
   "execution_count": 47,
   "metadata": {},
   "outputs": [
    {
     "name": "stdout",
     "output_type": "stream",
     "text": [
      "[[200.    8.8]\n",
      " [199.3  10. ]\n",
      " [193.6  22.4]\n",
      " ...\n",
      " [156.7 155.3]\n",
      " [154.1 150.8]\n",
      " [ 87.7 200. ]]\n"
     ]
    }
   ],
   "source": [
    "data = pd.read_csv(\"pines.txt\",delimiter=\"\\t\")\n",
    "print(data.values)"
   ]
  },
  {
   "cell_type": "code",
   "execution_count": 30,
   "metadata": {},
   "outputs": [],
   "source": [
    "first = np.array([])\n",
    "second = np.array([])\n",
    "for i in range(data.shape[0]):\n",
    "    first = np.append(first, data.values[i][0])\n",
    "    second = np.append(second, data.values[i][1])"
   ]
  },
  {
   "cell_type": "code",
   "execution_count": 31,
   "metadata": {},
   "outputs": [],
   "source": [
    "import scipy.stats"
   ]
  },
  {
   "cell_type": "code",
   "execution_count": 88,
   "metadata": {},
   "outputs": [],
   "source": [
    "ret = stats.binned_statistic_2d(first, second, None, 'count', bins = 5)"
   ]
  },
  {
   "cell_type": "code",
   "execution_count": 89,
   "metadata": {},
   "outputs": [
    {
     "name": "stdout",
     "output_type": "stream",
     "text": [
      "[[18. 26. 29. 25. 20.]\n",
      " [14. 12. 22. 34. 25.]\n",
      " [12. 24. 15. 50. 37.]\n",
      " [ 8. 19. 31. 50.  7.]\n",
      " [ 7.  8. 37. 27. 27.]]\n"
     ]
    },
    {
     "data": {
      "text/plain": [
       "23.36"
      ]
     },
     "execution_count": 89,
     "metadata": {},
     "output_type": "execute_result"
    }
   ],
   "source": [
    "print(ret.statistic)\n",
    "ret.statistic.mean()"
   ]
  },
  {
   "cell_type": "code",
   "execution_count": 90,
   "metadata": {},
   "outputs": [
    {
     "name": "stdout",
     "output_type": "stream",
     "text": [
      "Power_divergenceResult(statistic=150.58904109589042, pvalue=9.87806178820889e-21)\n"
     ]
    }
   ],
   "source": [
    "t = stats.chisquare([18., 26., 29., 25., 20., 14., 12., 22., 34., 25., 12., 24., 15., 50., 37., 8., 19., 31., 50.,  7., 7.,  8., 37., 27., 27.], ddof = 1)\n",
    "print(t)"
   ]
  },
  {
   "cell_type": "code",
   "execution_count": 82,
   "metadata": {},
   "outputs": [
    {
     "name": "stdout",
     "output_type": "stream",
     "text": [
      "0.037359415352799304\n"
     ]
    }
   ],
   "source": [
    "p = stats.chisquare(ret.statistic, ddof = 0)\n",
    "print(p[1].mean())"
   ]
  },
  {
   "cell_type": "code",
   "execution_count": null,
   "metadata": {},
   "outputs": [],
   "source": []
  },
  {
   "cell_type": "code",
   "execution_count": null,
   "metadata": {},
   "outputs": [],
   "source": [
    "https://www.youtube.com/watch?v=U31shAyEsbY\n",
    "\n",
    "https://www.youtube.com/watch?v=IvXlRIILErc"
   ]
  }
 ],
 "metadata": {
  "kernelspec": {
   "display_name": "Python 2",
   "language": "python",
   "name": "python2"
  },
  "language_info": {
   "codemirror_mode": {
    "name": "ipython",
    "version": 2
   },
   "file_extension": ".py",
   "mimetype": "text/x-python",
   "name": "python",
   "nbconvert_exporter": "python",
   "pygments_lexer": "ipython2",
   "version": "2.7.15"
  }
 },
 "nbformat": 4,
 "nbformat_minor": 2
}
