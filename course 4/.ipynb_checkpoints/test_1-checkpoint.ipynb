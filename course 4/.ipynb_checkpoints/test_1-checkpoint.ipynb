{
 "cells": [
  {
   "cell_type": "code",
   "execution_count": 1,
   "metadata": {},
   "outputs": [
    {
     "name": "stderr",
     "output_type": "stream",
     "text": [
      "C:\\Users\\oldst\\Anaconda2\\lib\\site-packages\\sklearn\\cross_validation.py:41: DeprecationWarning: This module was deprecated in version 0.18 in favor of the model_selection module into which all the refactored classes and functions are moved. Also note that the interface of the new CV iterators are different from that of this module. This module will be removed in 0.20.\n",
      "  \"This module will be removed in 0.20.\", DeprecationWarning)\n"
     ]
    }
   ],
   "source": [
    "from sklearn import cross_validation, datasets, linear_model, metrics\n",
    "\n",
    "import numpy as np\n",
    "import pandas as pd"
   ]
  },
  {
   "cell_type": "code",
   "execution_count": 2,
   "metadata": {},
   "outputs": [
    {
     "name": "stdout",
     "output_type": "stream",
     "text": [
      "Populating the interactive namespace from numpy and matplotlib\n"
     ]
    }
   ],
   "source": [
    "%pylab inline"
   ]
  },
  {
   "cell_type": "code",
   "execution_count": 117,
   "metadata": {},
   "outputs": [],
   "source": [
    "data = pd.read_csv(\"water.txt\",delimiter=\"\\t\")"
   ]
  },
  {
   "cell_type": "code",
   "execution_count": 118,
   "metadata": {},
   "outputs": [],
   "source": [
    "#print(len(data))\n",
    "#print(data.location[0])\n",
    "#print(data.values[0])\n",
    "#new_data = data\n",
    "#for i in range(len(new_data)):\n",
    "#    if new_data.location[i] == \"North\":\n",
    "#        new_data.drop(i)\n",
    "#print(new_data)\n"
   ]
  },
  {
   "cell_type": "code",
   "execution_count": 142,
   "metadata": {},
   "outputs": [],
   "source": [
    "def mean_func(sample):\n",
    "    mean = 0\n",
    "    for i in range (len(sample)):\n",
    "        mean +=sample[i]\n",
    "    mean/=len(sample)\n",
    "    return mean\n",
    "\n",
    "def unbiased_sample_variance(sample, mean):\n",
    "    var=0\n",
    "    for i in range(len(sample)):\n",
    "        var+=(sample[i]-mean)**2\n",
    "    return var/(len(sample)-1)\n",
    "    \n",
    "def variance(sample, mean):\n",
    "    var=0\n",
    "    for i in range(len(sample)):\n",
    "        var+=(sample[i]-mean)**2\n",
    "    return var/len(sample)\n",
    "\n",
    "def standart_deviation(variance):\n",
    "    return np.sqrt(variance)\n",
    "\n",
    "def estimation_of_standart_deviation(unbiased_sample_variance):\n",
    "    return np.sqrt(unbiased_sample_variance)\n",
    "\n",
    "def up_border(sample, mean, estimation_of_standart_deviation):\n",
    "    koef = 1.95996\n",
    "    return mean + koef*(estimation_of_standart_deviation/np.sqrt(len(sample)))\n",
    "\n",
    "def down_border(sample, mean, estimation_of_standart_deviation):\n",
    "    koef = 1.95996\n",
    "    return mean - koef*(estimation_of_standart_deviation/np.sqrt(len(sample)))"
   ]
  },
  {
   "cell_type": "code",
   "execution_count": 148,
   "metadata": {},
   "outputs": [],
   "source": [
    "mean_mortality = np.mean(data.mortality)\n",
    "variance_mortality = np.var(data.mortality)\n",
    "#unbiased_sample_variance_mortality = unbiased_sample_variance(data.mortality, mean_mortality)\n",
    "standart_deviation_mortality = np.std(data.mortality)\n",
    "#estimation_of_standart_deviation_mortality = estimation_of_standart_deviation(unbiased_sample_variance_mortality)\n",
    "estimation_of_standart_deviation_mortality = np.sqrt(standart_deviation_mortality)"
   ]
  },
  {
   "cell_type": "code",
   "execution_count": 147,
   "metadata": {},
   "outputs": [
    {
     "name": "stdout",
     "output_type": "stream",
     "text": [
      "(1523.2206408171899, 1525.0744411500234)\n"
     ]
    }
   ],
   "source": [
    "up = up_border(data, mean_mortality, estimation_of_standart_deviation_mortality)\n",
    "down = down_border(data, mean_mortality, estimation_of_standart_deviation_mortality)\n",
    "print(down, up)"
   ]
  },
  {
   "cell_type": "code",
   "execution_count": 111,
   "metadata": {},
   "outputs": [
    {
     "name": "stdout",
     "output_type": "stream",
     "text": [
      "[1247 1466 1299 1359 1392 1519 1307 1254 1318 1260 1096 1402 1581 1309\n",
      " 1259 1175 1486 1456 1236 1369 1257 1625 1527 1627 1486 1485]\n",
      "(1321.7895952312108, 1431.825789384174)\n"
     ]
    }
   ],
   "source": [
    "n_data = new_data.mortality.values\n",
    "print(n_data)\n",
    "n_mean_mortality = np.mean(n_data)\n",
    "n_unbiased_sample_variance_mortality = unbiased_sample_variance(n_data, n_mean_mortality)\n",
    "n_estimation_of_standart_deviation_mortality = estimation_of_standart_deviation(n_unbiased_sample_variance_mortality)\n",
    "n_up = up_border(n_data, n_mean_mortality, n_estimation_of_standart_deviation_mortality)\n",
    "n_down = down_border(n_data, n_mean_mortality, n_estimation_of_standart_deviation_mortality)\n",
    "print(n_down, n_up)"
   ]
  },
  {
   "cell_type": "code",
   "execution_count": 116,
   "metadata": {},
   "outputs": [
    {
     "name": "stdout",
     "output_type": "stream",
     "text": [
      "[1668 1800 1609 1558 1807 1637 1755 1491 1555 1428 1723 1379 1742 1574\n",
      " 1569 1591 1772 1828 1704 1702 1427 1724 1696 1711 1444 1591 1987 1495\n",
      " 1587 1713 1557 1640 1709 1625 1378]\n",
      "(1587.3068747503676, 1679.8931252496322)\n"
     ]
    }
   ],
   "source": [
    "new_data = data\n",
    "for i in range(len(new_data)):\n",
    "    if new_data.location[i] == \"South\":\n",
    "        new_data= new_data.drop(i)\n",
    "n_data = new_data.mortality.values\n",
    "print(n_data)\n",
    "n_mean_mortality = np.mean(n_data)\n",
    "n_unbiased_sample_variance_mortality = unbiased_sample_variance(n_data, n_mean_mortality)\n",
    "n_estimation_of_standart_deviation_mortality = estimation_of_standart_deviation(n_unbiased_sample_variance_mortality)\n",
    "n_up = up_border(n_data, n_mean_mortality, n_estimation_of_standart_deviation_mortality)\n",
    "n_down = down_border(n_data, n_mean_mortality, n_estimation_of_standart_deviation_mortality)\n",
    "print(n_down, n_up)"
   ]
  },
  {
   "cell_type": "code",
   "execution_count": 156,
   "metadata": {},
   "outputs": [
    {
     "data": {
      "text/plain": [
       "(21.42248728572426, 39.37751271427574)"
      ]
     },
     "execution_count": 156,
     "metadata": {},
     "output_type": "execute_result"
    }
   ],
   "source": [
    "from scipy import stats\n",
    "import statsmodels.stats.weightstats\n",
    "statsmodels.stats.weightstats._tconfint_generic(data[data.location == 'North'].hardness.mean(), data[data.location == 'North'].hardness.std(ddof=1) / np.sqrt(len(data[data.location == 'North'])), len(data[data.location == 'North']) - 1, 0.05, 'two-sided')"
   ]
  },
  {
   "cell_type": "code",
   "execution_count": 157,
   "metadata": {},
   "outputs": [
    {
     "data": {
      "text/plain": [
       "(53.467198692036106, 86.07126284642544)"
      ]
     },
     "execution_count": 157,
     "metadata": {},
     "output_type": "execute_result"
    }
   ],
   "source": [
    "statsmodels.stats.weightstats._tconfint_generic(data[data.location == 'South'].hardness.mean(), data[data.location == 'South'].hardness.std(ddof=1) / np.sqrt(len(data[data.location == 'South'])), len(data[data.location == 'South']) - 1, 0.05, 'two-sided')"
   ]
  },
  {
   "cell_type": "code",
   "execution_count": 174,
   "metadata": {},
   "outputs": [
    {
     "data": {
      "text/plain": [
       "(1320.1517462936238, 1433.463638321761)"
      ]
     },
     "execution_count": 174,
     "metadata": {},
     "output_type": "execute_result"
    }
   ],
   "source": [
    "statsmodels.stats.weightstats._tconfint_generic(data[data.location == 'South'].mortality.mean(), data[data.location == 'South'].mortality.std(ddof=1) / np.sqrt(len(data[data.location == 'South'])), len(data[data.location == 'South']) - 1, 0.05, 'two-sided')"
   ]
  },
  {
   "cell_type": "code",
   "execution_count": 159,
   "metadata": {},
   "outputs": [
    {
     "data": {
      "text/plain": [
       "(1328.6235447345139, 1424.9918398808709)"
      ]
     },
     "execution_count": 159,
     "metadata": {},
     "output_type": "execute_result"
    }
   ],
   "source": [
    "statsmodels.stats.weightstats._tconfint_generic(data[data.location == 'South'].mortality.mean(), data[data.location == 'South'].mortality.std(ddof=1) / np.sqrt(len(data[data.location == 'North'])), len(data[data.location == 'North']) - 1, 0.05, 'two-sided')"
   ]
  },
  {
   "cell_type": "code",
   "execution_count": 160,
   "metadata": {},
   "outputs": [
    {
     "data": {
      "text/plain": [
       "(1476.0833413552848, 1572.2117406119285)"
      ]
     },
     "execution_count": 160,
     "metadata": {},
     "output_type": "execute_result"
    }
   ],
   "source": [
    "statsmodels.stats.weightstats._tconfint_generic(data.mortality.mean(), data.mortality.std(ddof=1) / np.sqrt(len(data)), len(data) - 1, 0.05, 'two-sided')"
   ]
  },
  {
   "cell_type": "code",
   "execution_count": 173,
   "metadata": {},
   "outputs": [
    {
     "name": "stdout",
     "output_type": "stream",
     "text": [
      "30\n",
      "30\n",
      "(0, -12.71, 12.71)\n",
      "(1, -4.303, 4.303)\n",
      "(2, -1.591, 1.591)\n",
      "(3, -0.9253333333333332, 0.9253333333333332)\n",
      "(4, -0.64275, 0.64275)\n",
      "(5, -0.4894, 0.4894)\n",
      "(6, -0.3941666666666667, 0.3941666666666667)\n",
      "(7, -0.32942857142857146, 0.32942857142857146)\n",
      "(8, -0.28275, 0.28275)\n",
      "(9, -0.24755555555555558, 0.24755555555555558)\n",
      "(10, -0.22010000000000002, 0.22010000000000002)\n",
      "(11, -0.19809090909090907, 0.19809090909090907)\n",
      "(12, -0.18000000000000002, 0.18000000000000002)\n",
      "(13, -0.165, 0.165)\n",
      "(14, -0.1522142857142857, 0.1522142857142857)\n",
      "(15, -0.14133333333333334, 0.14133333333333334)\n",
      "(16, -0.131875, 0.131875)\n",
      "(17, -0.12358823529411765, 0.12358823529411765)\n",
      "(18, -0.11627777777777777, 0.11627777777777777)\n",
      "(19, -0.10978947368421052, 0.10978947368421052)\n",
      "(20, -0.10400000000000001, 0.10400000000000001)\n",
      "(21, -0.09876190476190476, 0.09876190476190476)\n",
      "(22, -0.09404545454545454, 0.09404545454545454)\n",
      "(23, -0.08973913043478261, 0.08973913043478261)\n",
      "(24, -0.08583333333333333, 0.08583333333333333)\n",
      "(25, -0.08224000000000001, 0.08224000000000001)\n",
      "(26, -0.07892307692307693, 0.07892307692307693)\n",
      "(27, -0.07585185185185185, 0.07585185185185185)\n",
      "(28, -0.07303571428571429, 0.07303571428571429)\n",
      "(29, -0.07041379310344827, 0.07041379310344827)\n"
     ]
    }
   ],
   "source": [
    "n = []\n",
    "for i in range(30):\n",
    "    n.append(i)\n",
    "n[0]=1\n",
    "alphas = [12.71, 4.303, 3.182, 2.776, 2.571, 2.447, 2.365, 2.306, 2.262, 2.228, 2.201, 2.179, 2.160, 2.145, 2.131, 2.120, \n",
    "       2.110, 2.101, 2.093, 2.086, 2.080, 2.074, 2.069, 2.064, 2.060, 2.056, 2.052, 2.048, 2.045, 2.042]\n",
    "print(len(alphas))\n",
    "print(len(n))\n",
    "for i in range(30):\n",
    "       print(i, -alphas[i]/n[i], alphas[i]/n[i])"
   ]
  },
  {
   "cell_type": "code",
   "execution_count": null,
   "metadata": {},
   "outputs": [],
   "source": []
  }
 ],
 "metadata": {
  "celltoolbar": "Raw Cell Format",
  "kernelspec": {
   "display_name": "Python 2",
   "language": "python",
   "name": "python2"
  },
  "language_info": {
   "codemirror_mode": {
    "name": "ipython",
    "version": 2
   },
   "file_extension": ".py",
   "mimetype": "text/x-python",
   "name": "python",
   "nbconvert_exporter": "python",
   "pygments_lexer": "ipython2",
   "version": "2.7.15"
  }
 },
 "nbformat": 4,
 "nbformat_minor": 2
}
