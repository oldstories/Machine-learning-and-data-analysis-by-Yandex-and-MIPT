{
 "cells": [
  {
   "cell_type": "code",
   "execution_count": 12,
   "metadata": {},
   "outputs": [],
   "source": [
    "import numpy as np\n",
    "import pandas as pd\n",
    "from sklearn.cluster import MeanShift"
   ]
  },
  {
   "cell_type": "code",
   "execution_count": 13,
   "metadata": {},
   "outputs": [
    {
     "name": "stderr",
     "output_type": "stream",
     "text": [
      "C:\\Users\\oldst\\Anaconda2\\lib\\site-packages\\IPython\\core\\interactiveshell.py:2714: DtypeWarning: Columns (0) have mixed types. Specify dtype option on import or set low_memory=False.\n",
      "  interactivity=interactivity, compiler=compiler, result=result)\n"
     ]
    }
   ],
   "source": [
    "with open('checkins.dat', 'r') as file1:\n",
    "    with open('checkins-new.dat', 'w') as file2:\n",
    "        for index, line in enumerate(file1):\n",
    "            newLine = line.replace(' ','').replace('|', ',')\n",
    "            if (index != 1):\n",
    "                file2.write(newLine)\n",
    "                \n",
    "data = pd.read_csv('checkins-new.dat').dropna()"
   ]
  },
  {
   "cell_type": "code",
   "execution_count": 19,
   "metadata": {},
   "outputs": [
    {
     "name": "stdout",
     "output_type": "stream",
     "text": [
      "(396634, 6)\n"
     ]
    },
    {
     "data": {
      "text/html": [
       "<div>\n",
       "<style scoped>\n",
       "    .dataframe tbody tr th:only-of-type {\n",
       "        vertical-align: middle;\n",
       "    }\n",
       "\n",
       "    .dataframe tbody tr th {\n",
       "        vertical-align: top;\n",
       "    }\n",
       "\n",
       "    .dataframe thead th {\n",
       "        text-align: right;\n",
       "    }\n",
       "</style>\n",
       "<table border=\"1\" class=\"dataframe\">\n",
       "  <thead>\n",
       "    <tr style=\"text-align: right;\">\n",
       "      <th></th>\n",
       "      <th>id</th>\n",
       "      <th>user_id</th>\n",
       "      <th>venue_id</th>\n",
       "      <th>latitude</th>\n",
       "      <th>longitude</th>\n",
       "      <th>created_at</th>\n",
       "    </tr>\n",
       "  </thead>\n",
       "  <tbody>\n",
       "    <tr>\n",
       "      <th>1</th>\n",
       "      <td>984222</td>\n",
       "      <td>15824.0</td>\n",
       "      <td>5222.0</td>\n",
       "      <td>38.895112</td>\n",
       "      <td>-77.036366</td>\n",
       "      <td>2012-04-2117:43:47</td>\n",
       "    </tr>\n",
       "    <tr>\n",
       "      <th>3</th>\n",
       "      <td>984234</td>\n",
       "      <td>44652.0</td>\n",
       "      <td>5222.0</td>\n",
       "      <td>33.800745</td>\n",
       "      <td>-84.410520</td>\n",
       "      <td>2012-04-2117:43:43</td>\n",
       "    </tr>\n",
       "    <tr>\n",
       "      <th>7</th>\n",
       "      <td>984291</td>\n",
       "      <td>105054.0</td>\n",
       "      <td>5222.0</td>\n",
       "      <td>45.523452</td>\n",
       "      <td>-122.676207</td>\n",
       "      <td>2012-04-2117:39:22</td>\n",
       "    </tr>\n",
       "    <tr>\n",
       "      <th>9</th>\n",
       "      <td>984318</td>\n",
       "      <td>2146539.0</td>\n",
       "      <td>5222.0</td>\n",
       "      <td>40.764462</td>\n",
       "      <td>-111.904565</td>\n",
       "      <td>2012-04-2117:35:46</td>\n",
       "    </tr>\n",
       "    <tr>\n",
       "      <th>10</th>\n",
       "      <td>984232</td>\n",
       "      <td>93870.0</td>\n",
       "      <td>380645.0</td>\n",
       "      <td>33.448377</td>\n",
       "      <td>-112.074037</td>\n",
       "      <td>2012-04-2117:38:18</td>\n",
       "    </tr>\n",
       "  </tbody>\n",
       "</table>\n",
       "</div>"
      ],
      "text/plain": [
       "        id    user_id  venue_id   latitude   longitude          created_at\n",
       "1   984222    15824.0    5222.0  38.895112  -77.036366  2012-04-2117:43:47\n",
       "3   984234    44652.0    5222.0  33.800745  -84.410520  2012-04-2117:43:43\n",
       "7   984291   105054.0    5222.0  45.523452 -122.676207  2012-04-2117:39:22\n",
       "9   984318  2146539.0    5222.0  40.764462 -111.904565  2012-04-2117:35:46\n",
       "10  984232    93870.0  380645.0  33.448377 -112.074037  2012-04-2117:38:18"
      ]
     },
     "execution_count": 19,
     "metadata": {},
     "output_type": "execute_result"
    }
   ],
   "source": [
    "print(data.shape)\n",
    "data.head()"
   ]
  },
  {
   "cell_type": "code",
   "execution_count": 26,
   "metadata": {},
   "outputs": [
    {
     "name": "stdout",
     "output_type": "stream",
     "text": [
      "(396634, 2)\n",
      "(100000, 2)\n"
     ]
    }
   ],
   "source": [
    "X = data.drop(['id','user_id', 'venue_id','created_at'],1)\n",
    "print(X.shape)\n",
    "X = X[:100000]\n",
    "print(X.shape)"
   ]
  },
  {
   "cell_type": "code",
   "execution_count": 28,
   "metadata": {},
   "outputs": [
    {
     "name": "stdout",
     "output_type": "stream",
     "text": [
      "Wall time: 2min 20s\n"
     ]
    }
   ],
   "source": [
    "%time clustering = MeanShift(bandwidth=0.1).fit(X)"
   ]
  },
  {
   "cell_type": "code",
   "execution_count": 75,
   "metadata": {},
   "outputs": [
    {
     "name": "stdout",
     "output_type": "stream",
     "text": [
      "[ 5  7 30 ... 25 19  4]\n",
      "100000\n",
      "[[  40.7177164   -73.99183542]\n",
      " [  33.44943805 -112.00213969]\n",
      " [  33.44638027 -111.90188756]\n",
      " ...\n",
      " [  46.7323875  -117.0001651 ]\n",
      " [  29.6899563   -95.8996757 ]\n",
      " [  31.3787916   -95.3213317 ]]\n",
      "(3230L, 2L)\n",
      "[1.2506e+04 4.6920e+03 3.9940e+03 ... 1.0000e+00 1.0000e+00 1.0000e+00]\n",
      "3230\n",
      "[[  40.7177164   -73.99183542]\n",
      " [  33.44943805 -112.00213969]\n",
      " [  33.44638027 -111.90188756]\n",
      " ...\n",
      " [  46.7323875  -117.0001651 ]\n",
      " [  29.6899563   -95.8996757 ]\n",
      " [  31.3787916   -95.3213317 ]]\n",
      "<type 'numpy.ndarray'>\n"
     ]
    }
   ],
   "source": [
    "print(clustering.labels_)\n",
    "print(clustering.labels_.size)\n",
    "print(clustering.cluster_centers_)\n",
    "print(clustering.cluster_centers_.shape)\n",
    "coords = clustering.cluster_centers_\n",
    "res=np.zeros(3230)\n",
    "for i in range(100000):\n",
    "    res[clustering.labels_[i]]+=1\n",
    "print(res)\n",
    "print(res.size)\n",
    "res_2 = res\n",
    "print(coords)\n",
    "print(type(coords))\n",
    "i=0\n",
    "j=0\n",
    "for t in range(3230):\n",
    "    if res[i]<=15:\n",
    "        res_2 = np.delete(res_2, j)\n",
    "        coords = np.delete(coords, j, 0)\n",
    "        j-=1\n",
    "    i+=1\n",
    "    j+=1"
   ]
  },
  {
   "cell_type": "code",
   "execution_count": 76,
   "metadata": {},
   "outputs": [
    {
     "name": "stdout",
     "output_type": "stream",
     "text": [
      "[[  40.7177164   -73.99183542]\n",
      " [  33.44943805 -112.00213969]\n",
      " [  33.44638027 -111.90188756]\n",
      " ...\n",
      " [  46.7323875  -117.0001651 ]\n",
      " [  29.6899563   -95.8996757 ]\n",
      " [  31.3787916   -95.3213317 ]]\n",
      "(3230L, 2L)\n",
      "-----\n",
      "[[  40.7177164   -73.99183542]\n",
      " [  33.44943805 -112.00213969]\n",
      " [  33.44638027 -111.90188756]\n",
      " ...\n",
      " [  41.61853175  -88.44556818]\n",
      " [  38.65877915  -76.8856871 ]\n",
      " [  39.2494686   -77.1821271 ]]\n",
      "(593L, 2L)\n",
      "-----\n",
      "[1.2506e+04 4.6920e+03 3.9940e+03 ... 1.0000e+00 1.0000e+00 1.0000e+00]\n",
      "(3230L,)\n",
      "-----\n",
      "[12506.  4692.  3994.  3363.  3526.  2409.  2297.  1601.  1526.  1378.\n",
      "  1298.  1081.  1006.  1007.   714.   868.   870.   645.   808.   807.\n",
      "   612.   722.   754.   747.   539.   656.   580.   577.   679.   564.\n",
      "   594.   907.   449.   502.   452.   104.   431.   410.   388.   400.\n",
      "   369.   367.   384.   347.   345.   342.   314.   273.   314.   316.\n",
      "   355.   281.   336.   293.   271.   246.   263.   258.   254.   243.\n",
      "   229.   291.   182.   155.   137.   193.   186.   197.   196.   189.\n",
      "   191.   187.   203.   178.   192.   169.   173.   153.   157.   199.\n",
      "   220.   164.   162.   155.   126.   152.    56.   100.   141.   142.\n",
      "   190.   117.   138.   133.   135.   131.   134.   122.   130.   109.\n",
      "   132.   135.   135.   120.   119.   116.   110.    91.   114.   114.\n",
      "    79.    98.   112.    74.   110.    67.   126.   106.   110.    74.\n",
      "   103.   102.   101.   100.    85.    99.    72.    99.   118.    95.\n",
      "    98.    84.    27.    99.    95.    97.    97.    92.    91.   103.\n",
      "    71.    95.    87.    99.    95.    33.    85.    65.   121.    78.\n",
      "    83.    81.    79.   101.    79.    61.    79.    78.    42.    84.\n",
      "    78.    68.    57.    63.    76.    74.    80.    76.    52.    56.\n",
      "    74.    74.    74.    73.    51.    71.    76.    77.    69.    78.\n",
      "    69.    69.    44.    68.    68.    52.    67.    67.    66.    66.\n",
      "    65.    53.    59.    64.    36.    63.    63.    54.    63.    62.\n",
      "    84.    43.    61.    61.    61.    61.    60.    58.    50.    56.\n",
      "    24.    46.    58.    58.    57.    58.    57.    56.    56.    48.\n",
      "    56.    56.    57.    42.    55.    38.    37.    82.    51.    37.\n",
      "    53.    54.    53.   134.    52.    52.    58.    50.    50.    38.\n",
      "    42.    44.    51.    52.    50.    50.    50.    50.    50.    36.\n",
      "    49.    49.    52.    48.    49.    44.    46.    50.    58.    47.\n",
      "    38.    44.    47.    49.    46.    46.    38.    49.    46.    40.\n",
      "    44.    45.    49.    43.    45.    45.    45.    45.    45.    44.\n",
      "    43.    40.    32.    16.    45.    37.    43.    36.    42.    42.\n",
      "    45.    42.    44.    47.    42.    51.    41.    41.    41.    40.\n",
      "    40.    40.    33.    40.    59.    53.    41.    39.    37.    30.\n",
      "    39.    35.    24.    38.    38.    38.    32.    38.    38.    59.\n",
      "    42.    35.    41.    37.    35.    37.    36.    36.    43.    36.\n",
      "    38.    36.    37.    33.    24.    35.    35.    35.    34.    34.\n",
      "    44.    27.    33.    34.    34.    34.    34.    35.    37.    35.\n",
      "    33.    33.    37.    33.    33.    27.    31.    33.    42.    21.\n",
      "    32.    32.    32.    37.    46.    32.    37.    32.    32.    31.\n",
      "    31.    31.    31.    31.    28.    31.    28.    25.    37.    31.\n",
      "    31.    31.    17.    25.    30.    34.    30.    28.    32.    32.\n",
      "    27.    64.    29.    32.    29.    29.    29.    16.    29.    29.\n",
      "    29.    28.    28.    28.    28.    25.    24.    28.    28.    28.\n",
      "    28.    29.    28.    28.    28.    28.    26.    28.    27.    27.\n",
      "    27.    26.    27.    27.    27.    27.    27.    28.    27.    27.\n",
      "    27.    26.    23.    27.    26.    26.    27.    26.    28.    25.\n",
      "    26.    26.    29.    24.    26.    26.    25.    16.    26.    25.\n",
      "    19.    23.    24.    24.    25.    24.    24.    24.    24.    20.\n",
      "    24.    26.    21.    32.    22.    24.    23.    23.    21.    23.\n",
      "    23.    23.    23.    23.    23.    24.    20.    23.    23.    23.\n",
      "    22.    22.    23.    21.    22.    22.    24.    22.    29.    22.\n",
      "    22.    22.    22.    22.    22.    22.    21.    21.    17.    21.\n",
      "    21.    21.    21.    21.    21.    21.    31.    17.    20.    20.\n",
      "    20.    20.    20.    20.    19.    20.    20.    19.    23.    19.\n",
      "    21.    19.    18.    18.    19.    19.    19.    19.    19.    19.\n",
      "    21.    19.    19.    19.    18.    27.    18.    21.    18.    18.\n",
      "    18.    18.    18.    18.    18.    18.    18.    18.    18.    18.\n",
      "    18.    17.    17.    17.    17.    17.    17.    17.    17.    17.\n",
      "    17.    17.    17.    17.    16.    16.    16.    16.    16.    16.\n",
      "    16.    16.    16.    26.    19.    16.    16.    16.    16.    16.\n",
      "    19.    16.    22.    16.    17.    18.    16.    16.    19.    26.\n",
      "    23.    19.    21.]\n",
      "(593L,)\n"
     ]
    }
   ],
   "source": [
    "print(clustering.cluster_centers_)\n",
    "print(clustering.cluster_centers_.shape)\n",
    "print('-----')\n",
    "print(coords)\n",
    "print(coords.shape)\n",
    "print('-----')\n",
    "print(res)\n",
    "print(res.shape)\n",
    "print('-----')\n",
    "print(res_2)\n",
    "print(res_2.shape)"
   ]
  },
  {
   "cell_type": "code",
   "execution_count": 33,
   "metadata": {},
   "outputs": [
    {
     "name": "stdout",
     "output_type": "stream",
     "text": [
      "[[ 3.37512770e+01 -1.18188740e+02]\n",
      " [ 2.58677360e+01 -8.03241160e+01]\n",
      " [ 5.15030160e+01 -7.54790000e-02]\n",
      " [ 5.23788940e+01  4.88508400e+00]\n",
      " [ 3.93664870e+01  1.17036146e+02]\n",
      " [-3.38684570e+01  1.51205134e+02]]\n"
     ]
    }
   ],
   "source": [
    "offices = np.array([[33.751277, -118.188740], [25.867736, -80.324116], [51.503016, -0.075479], [52.378894, 4.885084], [39.366487, 117.036146], [-33.868457, 151.205134]])\n",
    "print(offices)"
   ]
  },
  {
   "cell_type": "code",
   "execution_count": 83,
   "metadata": {},
   "outputs": [
    {
     "name": "stdout",
     "output_type": "stream",
     "text": [
      "[ 44.74257092   6.19395917   6.29424146 ... 251.2583223  239.34415107\n",
      " 239.80611351]\n",
      "(3558L,)\n"
     ]
    }
   ],
   "source": [
    "k=0\n",
    "res_3=np.zeros(3558)\n",
    "for i in range(6):\n",
    "    for j in range(593):\n",
    "        if k == 3375:\n",
    "            total = coords[j]\n",
    "        res_3[k] = np.sqrt((offices[i][0]-coords[j][0])**2+(offices[i][1]-coords[j][1])**2)\n",
    "        k+=1\n",
    "print(res_3)\n",
    "print(res_3.shape)\n",
    "\n",
    "        \n",
    "        "
   ]
  },
  {
   "cell_type": "code",
   "execution_count": 84,
   "metadata": {},
   "outputs": [
    {
     "name": "stdout",
     "output_type": "stream",
     "text": [
      "(array([3375], dtype=int64),)\n",
      "[-33.86063043 151.20477593]\n"
     ]
    }
   ],
   "source": [
    "np.amin(res_3)\n",
    "index = np.where(res_3 == np.amin(res_3))\n",
    "print(index)\n",
    "print(total)"
   ]
  },
  {
   "cell_type": "code",
   "execution_count": null,
   "metadata": {},
   "outputs": [],
   "source": []
  }
 ],
 "metadata": {
  "kernelspec": {
   "display_name": "Python 2",
   "language": "python",
   "name": "python2"
  },
  "language_info": {
   "codemirror_mode": {
    "name": "ipython",
    "version": 2
   },
   "file_extension": ".py",
   "mimetype": "text/x-python",
   "name": "python",
   "nbconvert_exporter": "python",
   "pygments_lexer": "ipython2",
   "version": "2.7.15"
  }
 },
 "nbformat": 4,
 "nbformat_minor": 2
}
