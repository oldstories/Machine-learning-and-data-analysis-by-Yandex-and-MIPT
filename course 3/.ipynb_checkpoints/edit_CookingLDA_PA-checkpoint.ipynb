{
 "cells": [
  {
   "cell_type": "markdown",
   "metadata": {},
   "source": [
    "# Programming Assignment: \n",
    "## Готовим LDA по рецептам"
   ]
  },
  {
   "cell_type": "markdown",
   "metadata": {},
   "source": [
    "Как вы уже знаете, в тематическом моделировании делается предположение о том, что для определения тематики порядок слов в документе не важен; об этом гласит гипотеза «мешка слов». Сегодня мы будем работать с несколько нестандартной для тематического моделирования коллекцией, которую можно назвать «мешком ингредиентов», потому что на состоит из рецептов блюд разных кухонь. Тематические модели ищут слова, которые часто вместе встречаются в документах, и составляют из них темы. Мы попробуем применить эту идею к рецептам и найти кулинарные «темы». Эта коллекция хороша тем, что не требует предобработки. Кроме того, эта задача достаточно наглядно иллюстрирует принцип работы тематических моделей.\n",
    "\n",
    "Для выполнения заданий, помимо часто используемых в курсе библиотек, потребуются модули *json* и *gensim*. Первый входит в дистрибутив Anaconda, второй можно поставить командой \n",
    "\n",
    "*pip install gensim*\n",
    "\n",
    "Построение модели занимает некоторое время. На ноутбуке с процессором Intel Core i7 и тактовой частотой 2400 МГц на построение одной модели уходит менее 10 минут."
   ]
  },
  {
   "cell_type": "markdown",
   "metadata": {},
   "source": [
    "### Загрузка данных"
   ]
  },
  {
   "cell_type": "markdown",
   "metadata": {},
   "source": [
    "Коллекция дана в json-формате: для каждого рецепта известны его id, кухня (cuisine) и список ингредиентов, в него входящих. Загрузить данные можно с помощью модуля json (он входит в дистрибутив Anaconda):"
   ]
  },
  {
   "cell_type": "code",
   "execution_count": 2,
   "metadata": {},
   "outputs": [],
   "source": [
    "import json"
   ]
  },
  {
   "cell_type": "code",
   "execution_count": 3,
   "metadata": {},
   "outputs": [],
   "source": [
    "with open(\"recipes.json\") as f:\n",
    "    recipes = json.load(f)"
   ]
  },
  {
   "cell_type": "code",
   "execution_count": 4,
   "metadata": {},
   "outputs": [
    {
     "name": "stdout",
     "output_type": "stream",
     "text": [
      "{u'cuisine': u'greek', u'id': 10259, u'ingredients': [u'romaine lettuce', u'black olives', u'grape tomatoes', u'garlic', u'pepper', u'purple onion', u'seasoning', u'garbanzo beans', u'feta cheese crumbles']}\n"
     ]
    }
   ],
   "source": [
    "print recipes[0]"
   ]
  },
  {
   "cell_type": "markdown",
   "metadata": {},
   "source": [
    "### Составление корпуса"
   ]
  },
  {
   "cell_type": "code",
   "execution_count": 5,
   "metadata": {},
   "outputs": [
    {
     "name": "stderr",
     "output_type": "stream",
     "text": [
      "C:\\Users\\oldst\\Anaconda2\\lib\\site-packages\\gensim\\utils.py:865: UserWarning: detected Windows; aliasing chunkize to chunkize_serial\n",
      "  warnings.warn(\"detected Windows; aliasing chunkize to chunkize_serial\")\n"
     ]
    }
   ],
   "source": [
    "from gensim import corpora, models\n",
    "import numpy as np"
   ]
  },
  {
   "cell_type": "markdown",
   "metadata": {},
   "source": [
    "Наша коллекция небольшая, и целиком помещается в оперативную память. Gensim может работать с такими данными и не требует их сохранения на диск в специальном формате. Для этого коллекция должна быть представлена в виде списка списков, каждый внутренний список соответствует отдельному документу и состоит из его слов. Пример коллекции из двух документов: \n",
    "\n",
    "[[\"hello\", \"world\"], [\"programming\", \"in\", \"python\"]]\n",
    "\n",
    "Преобразуем наши данные в такой формат, а затем создадим объекты corpus и dictionary, с которыми будет работать модель."
   ]
  },
  {
   "cell_type": "code",
   "execution_count": 6,
   "metadata": {},
   "outputs": [],
   "source": [
    "texts = [recipe[\"ingredients\"] for recipe in recipes]\n",
    "dictionary = corpora.Dictionary(texts)   # составляем словарь\n",
    "corpus = [dictionary.doc2bow(text) for text in texts]  # составляем корпус документов"
   ]
  },
  {
   "cell_type": "code",
   "execution_count": 7,
   "metadata": {},
   "outputs": [
    {
     "name": "stdout",
     "output_type": "stream",
     "text": [
      "[u'romaine lettuce', u'black olives', u'grape tomatoes', u'garlic', u'pepper', u'purple onion', u'seasoning', u'garbanzo beans', u'feta cheese crumbles']\n",
      "[(0, 1), (1, 1), (2, 1), (3, 1), (4, 1), (5, 1), (6, 1), (7, 1), (8, 1)]\n"
     ]
    }
   ],
   "source": [
    "print texts[0]\n",
    "print corpus[0]"
   ]
  },
  {
   "cell_type": "markdown",
   "metadata": {},
   "source": [
    "У объекта dictionary есть полезная переменная dictionary.token2id, позволяющая находить соответствие между ингредиентами и их индексами."
   ]
  },
  {
   "cell_type": "markdown",
   "metadata": {},
   "source": [
    "### Обучение модели\n",
    "Вам может понадобиться [документация](https://radimrehurek.com/gensim/models/ldamodel.html) LDA в gensim."
   ]
  },
  {
   "cell_type": "markdown",
   "metadata": {},
   "source": [
    "__Задание 1.__ Обучите модель LDA с 40 темами, установив количество проходов по коллекции 5 и оставив остальные параметры по умолчанию. \n",
    "\n",
    "\n",
    "Затем вызовите метод модели *show_topics*, указав количество тем 40 и количество токенов 10, и сохраните результат (топы ингредиентов в темах) в отдельную переменную. Если при вызове метода *show_topics* указать параметр *formatted=True*, то топы ингредиентов будет удобно выводить на печать, если *formatted=False*, будет удобно работать со списком программно. Выведите топы на печать, рассмотрите темы, а затем ответьте на вопрос:\n",
    "\n",
    "Сколько раз ингредиенты \"salt\", \"sugar\", \"water\", \"mushrooms\", \"chicken\", \"eggs\" встретились среди топов-10 всех 40 тем? При ответе __не нужно__ учитывать составные ингредиенты, например, \"hot water\".\n",
    "\n",
    "Передайте 6 чисел в функцию save_answers1 и загрузите сгенерированный файл в форму.\n",
    "\n",
    "У gensim нет возможности фиксировать случайное приближение через параметры метода, но библиотека использует numpy для инициализации матриц. Поэтому, по утверждению автора библиотеки, фиксировать случайное приближение нужно командой, которая написана в следующей ячейке. __Перед строкой кода с построением модели обязательно вставляйте указанную строку фиксации random.seed.__"
   ]
  },
  {
   "cell_type": "code",
   "execution_count": 16,
   "metadata": {},
   "outputs": [
    {
     "name": "stdout",
     "output_type": "stream",
     "text": [
      "Wall time: 1min 19s\n"
     ]
    }
   ],
   "source": [
    "np.random.seed(76543)\n",
    "# здесь код для построения модели:\n",
    "%time lda = models.ldamodel.LdaModel(corpus, id2word=dictionary, num_topics=40, passes=5)"
   ]
  },
  {
   "cell_type": "code",
   "execution_count": 8,
   "metadata": {},
   "outputs": [
    {
     "name": "stdout",
     "output_type": "stream",
     "text": [
      "[(0, u'0.083*\"salt\" + 0.080*\"cooking spray\" + 0.079*\"garlic cloves\" + 0.064*\"olive oil\" + 0.064*\"chopped onion\" + 0.035*\"fat free less sodium chicken broth\" + 0.034*\"crushed red pepper\" + 0.034*\"water\" + 0.033*\"black pepper\" + 0.032*\"ground black pepper\"'), (1, u'0.130*\"carrots\" + 0.077*\"onions\" + 0.052*\"cabbage\" + 0.043*\"spinach\" + 0.040*\"celery\" + 0.039*\"water\" + 0.037*\"beef\" + 0.031*\"low sodium chicken broth\" + 0.029*\"salt\" + 0.026*\"green cabbage\"'), (2, u'0.066*\"dry red wine\" + 0.047*\"shortening\" + 0.046*\"beef broth\" + 0.045*\"vegetable oil cooking spray\" + 0.044*\"grape tomatoes\" + 0.039*\"cilantro sprigs\" + 0.035*\"french bread\" + 0.033*\"dried rosemary\" + 0.030*\"all-purpose flour\" + 0.030*\"sun-dried tomatoes\"'), (3, u'0.117*\"oil\" + 0.112*\"potatoes\" + 0.081*\"salt\" + 0.050*\"chickpeas\" + 0.049*\"pepper\" + 0.048*\"onions\" + 0.046*\"rice\" + 0.030*\"water\" + 0.029*\"coriander\" + 0.029*\"saffron\"'), (4, u'0.061*\"green bell pepper\" + 0.057*\"garlic powder\" + 0.055*\"salt\" + 0.054*\"cayenne pepper\" + 0.039*\"onions\" + 0.034*\"dried thyme\" + 0.032*\"paprika\" + 0.030*\"worcestershire sauce\" + 0.027*\"onion powder\" + 0.026*\"ground black pepper\"'), (5, u'0.073*\"ground cumin\" + 0.053*\"salt\" + 0.048*\"ground coriander\" + 0.041*\"paprika\" + 0.038*\"olive oil\" + 0.035*\"onions\" + 0.033*\"garlic\" + 0.023*\"cayenne pepper\" + 0.022*\"garlic cloves\" + 0.020*\"tumeric\"'), (6, u'0.113*\"ground cinnamon\" + 0.087*\"ground nutmeg\" + 0.056*\"honey\" + 0.052*\"raisins\" + 0.048*\"ground cloves\" + 0.046*\"ground allspice\" + 0.034*\"brown sugar\" + 0.033*\"light brown sugar\" + 0.031*\"ground ginger\" + 0.030*\"margarine\"'), (7, u'0.082*\"zucchini\" + 0.078*\"fresh basil\" + 0.078*\"plum tomatoes\" + 0.075*\"olive oil\" + 0.046*\"salt\" + 0.045*\"eggplant\" + 0.033*\"garlic cloves\" + 0.031*\"grated parmesan cheese\" + 0.028*\"spaghetti\" + 0.028*\"red bell pepper\"'), (8, u'0.089*\"cooking oil\" + 0.059*\"basmati rice\" + 0.057*\"salt\" + 0.057*\"vinegar\" + 0.051*\"water\" + 0.049*\"ginger\" + 0.041*\"curry leaves\" + 0.033*\"mint leaves\" + 0.027*\"red cabbage\" + 0.026*\"kimchi\"'), (9, u'0.075*\"dried oregano\" + 0.074*\"onions\" + 0.065*\"garlic\" + 0.058*\"tomato sauce\" + 0.055*\"salt\" + 0.053*\"diced tomatoes\" + 0.050*\"ground beef\" + 0.041*\"dried basil\" + 0.040*\"tomato paste\" + 0.036*\"olive oil\"'), (10, u'0.040*\"ground black pepper\" + 0.038*\"russet potatoes\" + 0.037*\"large eggs\" + 0.037*\"dry bread crumbs\" + 0.032*\"chopped fresh chives\" + 0.032*\"butter\" + 0.029*\"red potato\" + 0.028*\"ham\" + 0.025*\"salt\" + 0.025*\"all-purpose flour\"'), (11, u'0.066*\"jalapeno chilies\" + 0.064*\"salt\" + 0.049*\"avocado\" + 0.040*\"lime\" + 0.034*\"garlic\" + 0.034*\"purple onion\" + 0.033*\"olive oil\" + 0.032*\"cilantro\" + 0.031*\"fresh cilantro\" + 0.029*\"ground cumin\"'), (12, u'0.102*\"cucumber\" + 0.068*\"lean ground beef\" + 0.047*\"cider vinegar\" + 0.044*\"feta cheese\" + 0.039*\"romaine lettuce\" + 0.038*\"lemon wedge\" + 0.036*\"cherry tomatoes\" + 0.033*\"cream\" + 0.031*\"purple onion\" + 0.029*\"chili\"'), (13, u'0.083*\"sour cream\" + 0.056*\"salsa\" + 0.049*\"shredded cheddar cheese\" + 0.047*\"flour tortillas\" + 0.038*\"black beans\" + 0.038*\"chili powder\" + 0.033*\"green onions\" + 0.030*\"ground cumin\" + 0.024*\"cheddar cheese\" + 0.024*\"corn tortillas\"'), (14, u'0.074*\"cinnamon sticks\" + 0.065*\"sweet potatoes\" + 0.051*\"black peppercorns\" + 0.048*\"white sugar\" + 0.046*\"orange\" + 0.043*\"fresh mint\" + 0.043*\"sugar\" + 0.036*\"fennel seeds\" + 0.036*\"water\" + 0.028*\"red wine\"'), (15, u'0.091*\"cold water\" + 0.078*\"sauce\" + 0.060*\"ground white pepper\" + 0.058*\"boiling water\" + 0.033*\"slivered almonds\" + 0.031*\"sugar\" + 0.030*\"cake flour\" + 0.027*\"panko breadcrumbs\" + 0.026*\"green olives\" + 0.024*\"szechwan peppercorns\"'), (16, u'0.100*\"extra-virgin olive oil\" + 0.060*\"garlic cloves\" + 0.050*\"olive oil\" + 0.047*\"flat leaf parsley\" + 0.040*\"freshly ground pepper\" + 0.038*\"salt\" + 0.037*\"dry white wine\" + 0.037*\"fresh lemon juice\" + 0.032*\"large garlic cloves\" + 0.030*\"ground black pepper\"'), (17, u'0.122*\"coconut milk\" + 0.050*\"white wine\" + 0.046*\"parsley\" + 0.043*\"garlic\" + 0.040*\"thyme\" + 0.037*\"onions\" + 0.033*\"sea salt\" + 0.031*\"chicken thighs\" + 0.029*\"coconut oil\" + 0.026*\"salt\"'), (18, u'0.104*\"salt\" + 0.093*\"all-purpose flour\" + 0.086*\"eggs\" + 0.085*\"milk\" + 0.071*\"butter\" + 0.055*\"baking powder\" + 0.049*\"sugar\" + 0.037*\"flour\" + 0.034*\"baking soda\" + 0.030*\"buttermilk\"'), (19, u'0.140*\"curry powder\" + 0.074*\"frozen peas\" + 0.067*\"long-grain rice\" + 0.055*\"sweetened condensed milk\" + 0.048*\"greek yogurt\" + 0.039*\"black-eyed peas\" + 0.038*\"egg whites\" + 0.033*\"cauliflower\" + 0.027*\"ground cayenne pepper\" + 0.024*\"sugar pea\"'), (20, u'0.041*\"peanut oil\" + 0.034*\"beansprouts\" + 0.033*\"Sriracha\" + 0.030*\"rice noodles\" + 0.030*\"medium shrimp\" + 0.029*\"fish sauce\" + 0.028*\"peanuts\" + 0.027*\"peeled fresh ginger\" + 0.024*\"ground pork\" + 0.024*\"minced ginger\"'), (21, u'0.114*\"boneless skinless chicken breast halves\" + 0.105*\"coarse salt\" + 0.066*\"ground pepper\" + 0.061*\"mayonaise\" + 0.059*\"sweet onion\" + 0.043*\"white rice\" + 0.041*\"minced garlic\" + 0.035*\"minced onion\" + 0.031*\"dried parsley\" + 0.027*\"ketchup\"'), (22, u'0.076*\"diced onions\" + 0.052*\"lettuce\" + 0.051*\"self rising flour\" + 0.046*\"provolone cheese\" + 0.039*\"grits\" + 0.030*\"iceberg lettuce\" + 0.027*\"frozen pastry puff sheets\" + 0.025*\"shredded cheese\" + 0.025*\"romano cheese\" + 0.024*\"semi-sweet chocolate morsels\"'), (23, u'0.183*\"lemon juice\" + 0.085*\"dijon mustard\" + 0.052*\"creole seasoning\" + 0.042*\"white pepper\" + 0.042*\"pork tenderloin\" + 0.040*\"fresh orange juice\" + 0.039*\"nutmeg\" + 0.029*\"kale\" + 0.029*\"mayonaise\" + 0.028*\"salmon fillets\"'), (24, u'0.076*\"whipping cream\" + 0.067*\"sugar\" + 0.065*\"orange juice\" + 0.061*\"hot water\" + 0.056*\"chopped garlic\" + 0.039*\"grated nutmeg\" + 0.037*\"bananas\" + 0.034*\"bread flour\" + 0.027*\"vanilla beans\" + 0.027*\"water\"'), (25, u'0.067*\"salt\" + 0.061*\"cumin seed\" + 0.054*\"onions\" + 0.044*\"ground turmeric\" + 0.043*\"garam masala\" + 0.040*\"green chilies\" + 0.033*\"chili powder\" + 0.031*\"tomatoes\" + 0.029*\"oil\" + 0.028*\"clove\"'), (26, u'0.084*\"fish sauce\" + 0.048*\"white vinegar\" + 0.042*\"sugar\" + 0.037*\"lime juice\" + 0.036*\"garlic\" + 0.032*\"vegetable oil\" + 0.032*\"lemongrass\" + 0.031*\"shallots\" + 0.028*\"water\" + 0.028*\"red chili peppers\"'), (27, u'0.104*\"grated parmesan cheese\" + 0.057*\"warm water\" + 0.054*\"salt\" + 0.047*\"shredded mozzarella cheese\" + 0.044*\"olive oil\" + 0.039*\"ricotta cheese\" + 0.038*\"active dry yeast\" + 0.036*\"mozzarella cheese\" + 0.031*\"italian seasoning\" + 0.031*\"eggs\"'), (28, u'0.195*\"shrimp\" + 0.056*\"pork\" + 0.054*\"baby spinach\" + 0.033*\"unsweetened coconut milk\" + 0.032*\"fresh tomatoes\" + 0.031*\"noodles\" + 0.030*\"black mustard seeds\" + 0.028*\"jasmine rice\" + 0.028*\"sausage casings\" + 0.024*\"sea scallops\"'), (29, u'0.146*\"shallots\" + 0.104*\"mushrooms\" + 0.064*\"white wine vinegar\" + 0.039*\"butter\" + 0.038*\"mussels\" + 0.038*\"olive oil\" + 0.032*\"boneless chicken breast\" + 0.027*\"dry white wine\" + 0.026*\"chopped fresh sage\" + 0.020*\"chorizo sausage\"'), (30, u'0.087*\"unsalted butter\" + 0.086*\"large eggs\" + 0.069*\"sugar\" + 0.056*\"salt\" + 0.050*\"all-purpose flour\" + 0.048*\"heavy cream\" + 0.038*\"whole milk\" + 0.034*\"vanilla extract\" + 0.034*\"granulated sugar\" + 0.029*\"large egg yolks\"'), (31, u'0.068*\"ground red pepper\" + 0.065*\"salt\" + 0.056*\"finely chopped onion\" + 0.050*\"chopped celery\" + 0.045*\"green beans\" + 0.042*\"water\" + 0.034*\"hot pepper sauce\" + 0.034*\"long grain white rice\" + 0.032*\"chopped onion\" + 0.031*\"chopped green bell pepper\"'), (32, u'0.067*\"fine sea salt\" + 0.056*\"lemon zest\" + 0.054*\"fresh spinach\" + 0.053*\"water\" + 0.046*\"yukon gold potatoes\" + 0.037*\"collard greens\" + 0.034*\"rice flour\" + 0.032*\"tofu\" + 0.030*\"dried shiitake mushrooms\" + 0.029*\"seasoning salt\"'), (33, u'0.142*\"balsamic vinegar\" + 0.075*\"dark soy sauce\" + 0.067*\"baguette\" + 0.054*\"broccoli\" + 0.040*\"arugula\" + 0.034*\"mint\" + 0.033*\"penne\" + 0.021*\"red kidney beans\" + 0.020*\"quinoa\" + 0.019*\"phyllo dough\"'), (34, u'0.082*\"onions\" + 0.067*\"salt\" + 0.059*\"garlic\" + 0.051*\"olive oil\" + 0.046*\"bay leaves\" + 0.043*\"ground black pepper\" + 0.042*\"chicken stock\" + 0.039*\"lemon\" + 0.037*\"chicken\" + 0.035*\"bacon\"'), (35, u'0.096*\"soy sauce\" + 0.051*\"sesame oil\" + 0.042*\"sugar\" + 0.040*\"corn starch\" + 0.039*\"garlic\" + 0.036*\"green onions\" + 0.034*\"scallions\" + 0.033*\"rice vinegar\" + 0.030*\"water\" + 0.029*\"salt\"'), (36, u'0.105*\"cheese\" + 0.063*\"garlic salt\" + 0.059*\"rice wine\" + 0.056*\"chives\" + 0.042*\"chicken breast halves\" + 0.040*\"shredded sharp cheddar cheese\" + 0.039*\"roasted peanuts\" + 0.037*\"Mexican cheese blend\" + 0.036*\"non-fat sour cream\" + 0.033*\"dashi\"'), (37, u'0.215*\"chicken broth\" + 0.133*\"chicken breasts\" + 0.086*\"crushed red pepper flakes\" + 0.045*\"onions\" + 0.044*\"garlic\" + 0.026*\"pepper\" + 0.026*\"poblano chiles\" + 0.025*\"frozen corn\" + 0.022*\"olive oil\" + 0.020*\"chile powder\"'), (38, u'0.068*\"olive oil\" + 0.060*\"red wine vinegar\" + 0.058*\"salt\" + 0.039*\"garlic\" + 0.038*\"fresh basil leaves\" + 0.038*\"parmesan cheese\" + 0.036*\"extra-virgin olive oil\" + 0.031*\"pepper\" + 0.029*\"feta cheese crumbles\" + 0.029*\"tomatoes\"'), (39, u'0.102*\"canola oil\" + 0.091*\"kosher salt\" + 0.062*\"fresh lime juice\" + 0.046*\"chopped cilantro fresh\" + 0.046*\"garlic cloves\" + 0.031*\"vegetable oil\" + 0.031*\"chiles\" + 0.029*\"serrano chile\" + 0.027*\"boneless chicken skinless thigh\" + 0.024*\"ground black pepper\"')]\n"
     ]
    }
   ],
   "source": [
    "res = lda.show_topics(num_topics=40, num_words=10, formatted=True)\n",
    "print(res)"
   ]
  },
  {
   "cell_type": "code",
   "execution_count": 9,
   "metadata": {},
   "outputs": [],
   "source": [
    "def save_answers1(c_salt, c_sugar, c_water, c_mushrooms, c_chicken, c_eggs):\n",
    "    with open(\"cooking_LDA_pa_task1.txt\", \"w\") as fout:\n",
    "        fout.write(\" \".join([str(el) for el in [c_salt, c_sugar, c_water, c_mushrooms, c_chicken, c_eggs]]))"
   ]
  },
  {
   "cell_type": "code",
   "execution_count": 10,
   "metadata": {},
   "outputs": [],
   "source": [
    "#make it on python\n",
    "c_salt = 24\n",
    "c_sugar = 9\n",
    "c_water = 8\n",
    "c_mushrooms = 1\n",
    "c_chicken = 0\n",
    "c_eggs = 2\n",
    "save_answers1(c_salt, c_sugar, c_water, c_mushrooms, c_chicken, c_eggs)"
   ]
  },
  {
   "cell_type": "markdown",
   "metadata": {},
   "source": [
    "### Фильтрация словаря\n",
    "В топах тем гораздо чаще встречаются первые три рассмотренных ингредиента, чем последние три. При этом наличие в рецепте курицы, яиц и грибов яснее дает понять, что мы будем готовить, чем наличие соли, сахара и воды. Таким образом, даже в рецептах есть слова, часто встречающиеся в текстах и не несущие смысловой нагрузки, и поэтому их не желательно видеть в темах. Наиболее простой прием борьбы с такими фоновыми элементами — фильтрация словаря по частоте. Обычно словарь фильтруют с двух сторон: убирают очень редкие слова (в целях экономии памяти) и очень частые слова (в целях повышения интерпретируемости тем). Мы уберем только частые слова."
   ]
  },
  {
   "cell_type": "code",
   "execution_count": 9,
   "metadata": {},
   "outputs": [
    {
     "name": "stdout",
     "output_type": "stream",
     "text": [
      "4438\n",
      "pepper\n"
     ]
    }
   ],
   "source": [
    "import copy\n",
    "dictionary2 = copy.deepcopy(dictionary)\n",
    "print(dictionary2.dfs[0])\n",
    "print(dictionary2[0])"
   ]
  },
  {
   "cell_type": "markdown",
   "metadata": {},
   "source": [
    "__Задание 2.__ У объекта dictionary2 есть переменная *dfs* — это словарь, ключами которого являются id токена, а элементами — число раз, сколько слово встретилось во всей коллекции. Сохраните в отдельный список ингредиенты, которые встретились в коллекции больше 4000 раз. Вызовите метод словаря *filter_tokens*, подав в качестве первого аргумента полученный список популярных ингредиентов. Вычислите две величины: dict_size_before и dict_size_after — размер словаря до и после фильтрации.\n",
    "\n",
    "Затем, используя новый словарь, создайте новый корпус документов, corpus2, по аналогии с тем, как это сделано в начале ноутбука. Вычислите две величины: corpus_size_before и corpus_size_after — суммарное количество ингредиентов в корпусе (для каждого документа вычислите число различных ингредиентов в нем и просуммируйте по всем документам) до и после фильтрации.\n",
    "\n",
    "Передайте величины dict_size_before, dict_size_after, corpus_size_before, corpus_size_after в функцию save_answers2 и загрузите сгенерированный файл в форму."
   ]
  },
  {
   "cell_type": "code",
   "execution_count": 10,
   "metadata": {},
   "outputs": [
    {
     "name": "stdout",
     "output_type": "stream",
     "text": [
      "{0: 4438, 4: 7380, 9: 4385, 12: 4784, 45: 7972, 48: 6434, 17: 18048, 21: 4847, 54: 7971, 100: 6236, 29: 7457, 117: 4632}\n",
      "{0: u'pepper', 4: u'garlic', 9: u'vegetable oil', 12: u'ground black pepper', 45: u'onions', 48: u'sugar', 17: u'salt', 21: u'butter', 54: u'olive oil', 100: u'garlic cloves', 29: u'water', 117: u'all-purpose flour'}\n",
      "(6714, 6702)\n",
      "(343665, 428249)\n"
     ]
    }
   ],
   "source": [
    "dict_after = {}\n",
    "for k in dictionary2.dfs.keys():\n",
    "    if dictionary2.dfs[k] > 4000:\n",
    "        dict_after[k] =  dictionary2.dfs[k]        \n",
    "print(dict_after)\n",
    "new_dict={}\n",
    "for k in dict_after.keys():\n",
    "    new_dict[k]=dictionary[k]\n",
    "print(new_dict)    #Создал нужные словари\n",
    "\n",
    "#{3: 7380, 4: 4438, 11: 18048, 13: 4784, 19: 4385, 27: 4847, 29: 7457, 35: 7972, 47: 6434, 54: 7971, 105: 6236, 115: 4632}\n",
    "#{3: 'garlic', 4: 'pepper', 11: 'salt', 13: 'ground black pepper', 19: 'vegetable oil', 27: 'butter', 29: 'water', 35: 'onions', 47: 'sugar', 54: 'olive oil', 105: 'garlic cloves', 115: 'all-purpose flour'}\n",
    "dictionary2.filter_tokens(new_dict)\n",
    "dict_size_after = len(dictionary2)\n",
    "dict_size_before = len(dictionary)\n",
    "print(dict_size_before,dict_size_after)\n",
    "#6714 6666\n",
    "corpus2 = [dictionary2.doc2bow(text) for text in texts]\n",
    "s1 = 0\n",
    "for i in range(len(corpus2)):\n",
    "    s1+=len(corpus2[i])\n",
    "corpus_size_after = s1\n",
    "\n",
    "s2 = 0\n",
    "for i in range(len(corpus)):\n",
    "    s2+=len(corpus[i])\n",
    "corpus_size_before = s2\n",
    "print(s1,s2)\n",
    "#316116 428249"
   ]
  },
  {
   "cell_type": "code",
   "execution_count": 11,
   "metadata": {},
   "outputs": [
    {
     "name": "stdout",
     "output_type": "stream",
     "text": [
      "{0: 4438, 4: 7380, 9: 4385, 12: 4784, 45: 7972, 48: 6434, 17: 18048, 21: 4847, 54: 7971, 100: 6236, 29: 7457, 117: 4632}\n",
      "6714\n",
      "6702\n"
     ]
    }
   ],
   "source": [
    "dictionary2 = copy.deepcopy(dictionary)\n",
    "new_list = {}\n",
    "for i in dictionary2.dfs.keys():\n",
    "    if dictionary2.dfs[i]>4000:\n",
    "        new_list[i] =  dictionary2.dfs[i]\n",
    "print(new_list)\n",
    "dict_size_before = len(dictionary2)\n",
    "print(dict_size_before)\n",
    "dictionary2.filter_tokens(bad_ids = new_list)\n",
    "dict_size_after = len(dictionary2)\n",
    "print(dict_size_after)"
   ]
  },
  {
   "cell_type": "code",
   "execution_count": 12,
   "metadata": {},
   "outputs": [],
   "source": [
    "corpus2 = [dictionary2.doc2bow(text) for text in texts]  # составляем корпус документов"
   ]
  },
  {
   "cell_type": "code",
   "execution_count": 13,
   "metadata": {
    "scrolled": true
   },
   "outputs": [
    {
     "name": "stdout",
     "output_type": "stream",
     "text": [
      "428249\n",
      "343665\n"
     ]
    },
    {
     "ename": "NameError",
     "evalue": "name 'save_answers2' is not defined",
     "output_type": "error",
     "traceback": [
      "\u001b[1;31m---------------------------------------------------------------------------\u001b[0m",
      "\u001b[1;31mNameError\u001b[0m                                 Traceback (most recent call last)",
      "\u001b[1;32m<ipython-input-13-944f835e37b5>\u001b[0m in \u001b[0;36m<module>\u001b[1;34m()\u001b[0m\n\u001b[0;32m      8\u001b[0m     \u001b[0mcorpus_size_after\u001b[0m\u001b[1;33m+=\u001b[0m\u001b[0mlen\u001b[0m\u001b[1;33m(\u001b[0m\u001b[0mcorpus2\u001b[0m\u001b[1;33m[\u001b[0m\u001b[0mi\u001b[0m\u001b[1;33m]\u001b[0m\u001b[1;33m)\u001b[0m\u001b[1;33m\u001b[0m\u001b[0m\n\u001b[0;32m      9\u001b[0m \u001b[1;32mprint\u001b[0m\u001b[1;33m(\u001b[0m\u001b[0mcorpus_size_after\u001b[0m\u001b[1;33m)\u001b[0m\u001b[1;33m\u001b[0m\u001b[0m\n\u001b[1;32m---> 10\u001b[1;33m \u001b[0msave_answers2\u001b[0m\u001b[1;33m(\u001b[0m\u001b[0mdict_size_before\u001b[0m\u001b[1;33m,\u001b[0m \u001b[0mdict_size_after\u001b[0m\u001b[1;33m,\u001b[0m \u001b[0mcorpus_size_before\u001b[0m\u001b[1;33m,\u001b[0m \u001b[0mcorpus_size_after\u001b[0m\u001b[1;33m)\u001b[0m\u001b[1;33m\u001b[0m\u001b[0m\n\u001b[0m",
      "\u001b[1;31mNameError\u001b[0m: name 'save_answers2' is not defined"
     ]
    }
   ],
   "source": [
    "corpus_size_before=0\n",
    "corpus_size_after=0\n",
    "for i in range(len(corpus)):\n",
    "    corpus_size_before+=len(corpus[i])\n",
    "print(corpus_size_before)\n",
    "\n",
    "for i in range(len(corpus2)):\n",
    "    corpus_size_after+=len(corpus2[i])\n",
    "print(corpus_size_after)\n",
    "save_answers2(dict_size_before, dict_size_after, corpus_size_before, corpus_size_after)"
   ]
  },
  {
   "cell_type": "code",
   "execution_count": 15,
   "metadata": {},
   "outputs": [],
   "source": [
    "def save_answers2(dict_size_before, dict_size_after, corpus_size_before, corpus_size_after):\n",
    "    with open(\"cooking_LDA_pa_task2.txt\", \"w\") as fout:\n",
    "        fout.write(\" \".join([str(el) for el in [dict_size_before, dict_size_after, corpus_size_before, corpus_size_after]]))"
   ]
  },
  {
   "cell_type": "markdown",
   "metadata": {},
   "source": [
    "### Сравнение когерентностей\n",
    "__Задание 3.__ Постройте еще одну модель по корпусу corpus2 и словарю dictionary2, остальные параметры оставьте такими же, как при первом построении модели. Сохраните новую модель в другую переменную (не перезаписывайте предыдущую модель). Не забудьте про фиксирование seed!\n",
    "\n",
    "Затем воспользуйтесь методом *top_topics* модели, чтобы вычислить ее когерентность. Передайте в качестве аргумента соответствующий модели корпус. Метод вернет список кортежей (топ токенов, когерентность), отсортированных по убыванию последней. Вычислите среднюю по всем темам когерентность для каждой из двух моделей и передайте в функцию save_answers3. "
   ]
  },
  {
   "cell_type": "code",
   "execution_count": 14,
   "metadata": {},
   "outputs": [
    {
     "name": "stdout",
     "output_type": "stream",
     "text": [
      "Wall time: 1min 7s\n"
     ]
    }
   ],
   "source": [
    "np.random.seed(76543)\n",
    "%time lda_2 = models.ldamodel.LdaModel(corpus2, id2word=dictionary2, num_topics=40, passes=5)"
   ]
  },
  {
   "cell_type": "code",
   "execution_count": 17,
   "metadata": {},
   "outputs": [
    {
     "name": "stdout",
     "output_type": "stream",
     "text": [
      "40\n",
      "Wall time: 36.4 s\n"
     ]
    }
   ],
   "source": [
    "%time print(len(lda.top_topics(corpus=corpus)))"
   ]
  },
  {
   "cell_type": "code",
   "execution_count": 21,
   "metadata": {},
   "outputs": [],
   "source": [
    "mean_cor_1=0\n",
    "length = len(lda.top_topics(corpus=corpus))\n",
    "for i in range (length):\n",
    "    mean_cor_1 += lda.top_topics(corpus=corpus)[i][1]\n",
    "    print(mean_cor_1)\n",
    "%time mean_cor_1= mean_cor_1/length\n",
    "print(mean_cor_1)\n",
    "#ean_cor_1 = -699.4559739709772"
   ]
  },
  {
   "cell_type": "code",
   "execution_count": 22,
   "metadata": {},
   "outputs": [],
   "source": [
    "mean_cor_2=0\n",
    "length_2 = len(lda_2.top_topics(corpus=corpus2))\n",
    "for i in range (length_2):\n",
    "    %time mean_cor_2 += lda_2.top_topics(corpus=corpus2)[i][1]\n",
    "    print(mean_cor_2)\n",
    "%time mean_cor_2= mean_cor_2/length_2\n",
    "print(mean_cor_2)\n",
    "#mean_cor_2 = -737.7190246856351"
   ]
  },
  {
   "cell_type": "code",
   "execution_count": 23,
   "metadata": {},
   "outputs": [],
   "source": [
    "save_answers3(mean_cor_1, mean_cor_2)"
   ]
  },
  {
   "cell_type": "code",
   "execution_count": 19,
   "metadata": {},
   "outputs": [],
   "source": [
    "def save_answers3(coherence, coherence2):\n",
    "    with open(\"cooking_LDA_pa_task3.txt\", \"w\") as fout:\n",
    "        fout.write(\" \".join([\"%3f\"%el for el in [coherence, coherence2]]))"
   ]
  },
  {
   "cell_type": "markdown",
   "metadata": {},
   "source": [
    "Считается, что когерентность хорошо соотносится с человеческими оценками интерпретируемости тем. Поэтому на больших текстовых коллекциях когерентность обычно повышается, если убрать фоновую лексику. Однако в нашем случае этого не произошло. "
   ]
  },
  {
   "cell_type": "markdown",
   "metadata": {},
   "source": [
    "### Изучение влияния гиперпараметра alpha"
   ]
  },
  {
   "cell_type": "markdown",
   "metadata": {},
   "source": [
    "В этом разделе мы будем работать со второй моделью, то есть той, которая построена по сокращенному корпусу. \n",
    "\n",
    "Пока что мы посмотрели только на матрицу темы-слова, теперь давайте посмотрим на матрицу темы-документы. Выведите темы для нулевого (или любого другого) документа из корпуса, воспользовавшись методом *get_document_topics* второй модели:"
   ]
  },
  {
   "cell_type": "code",
   "execution_count": 36,
   "metadata": {},
   "outputs": [
    {
     "name": "stdout",
     "output_type": "stream",
     "text": [
      "[(5, 0.13075208547471168), (7, 0.5051590884792403), (11, 0.24846382604604697)]\n"
     ]
    }
   ],
   "source": [
    "print(lda_2.get_document_topics(corpus2[0]))"
   ]
  },
  {
   "cell_type": "markdown",
   "metadata": {},
   "source": [
    "Также выведите содержимое переменной *.alpha* второй модели:"
   ]
  },
  {
   "cell_type": "code",
   "execution_count": 30,
   "metadata": {},
   "outputs": [
    {
     "data": {
      "text/plain": [
       "array([0.025, 0.025, 0.025, 0.025, 0.025, 0.025, 0.025, 0.025, 0.025,\n",
       "       0.025, 0.025, 0.025, 0.025, 0.025, 0.025, 0.025, 0.025, 0.025,\n",
       "       0.025, 0.025, 0.025, 0.025, 0.025, 0.025, 0.025, 0.025, 0.025,\n",
       "       0.025, 0.025, 0.025, 0.025, 0.025, 0.025, 0.025, 0.025, 0.025,\n",
       "       0.025, 0.025, 0.025, 0.025])"
      ]
     },
     "execution_count": 30,
     "metadata": {},
     "output_type": "execute_result"
    }
   ],
   "source": [
    "lda_2.alpha"
   ]
  },
  {
   "cell_type": "markdown",
   "metadata": {},
   "source": [
    "У вас должно получиться, что документ характеризуется небольшим числом тем. Попробуем поменять гиперпараметр alpha, задающий априорное распределение Дирихле для распределений тем в документах."
   ]
  },
  {
   "cell_type": "markdown",
   "metadata": {},
   "source": [
    "__Задание 4.__ Обучите третью модель: используйте сокращенный корпус (corpus2 и dictionary2) и установите параметр __alpha=1__, passes=5. Не забудьте про фиксацию seed! Выведите темы новой модели для нулевого документа; должно получиться, что распределение над множеством тем практически равномерное. Чтобы убедиться в том, что во второй модели документы описываются гораздо более разреженными распределениями, чем в третьей, посчитайте суммарное количество элементов, __превосходящих 0.01__, в матрицах темы-документы обеих моделей. Другими словами, запросите темы  модели для каждого документа с параметром *minimum_probability=0.01* и просуммируйте число элементов в получаемых массивах. Передайте две суммы (сначала для модели с alpha по умолчанию, затем для модели в alpha=1) в функцию save_answers4."
   ]
  },
  {
   "cell_type": "code",
   "execution_count": 37,
   "metadata": {},
   "outputs": [
    {
     "name": "stdout",
     "output_type": "stream",
     "text": [
      "Wall time: 53.8 s\n"
     ]
    }
   ],
   "source": [
    "np.random.seed(76543)\n",
    "%time lda_3 = models.ldamodel.LdaModel(corpus2, id2word=dictionary2, num_topics=40, alpha=1, passes=5)"
   ]
  },
  {
   "cell_type": "code",
   "execution_count": 66,
   "metadata": {},
   "outputs": [
    {
     "name": "stdout",
     "output_type": "stream",
     "text": [
      "1590960\n",
      "198116\n"
     ]
    }
   ],
   "source": [
    "sum_3 = 0\n",
    "for i in range(len(corpus2)):\n",
    "    sum_3+= len(lda_3.get_document_topics(corpus2[i], minimum_probability=0.01))\n",
    "print(sum_3)\n",
    "sum_4 = 0\n",
    "for i in range(len(corpus2)):\n",
    "    sum_4+= len(lda_2.get_document_topics(corpus2[i], minimum_probability=0.01))\n",
    "print(sum_4)"
   ]
  },
  {
   "cell_type": "code",
   "execution_count": 68,
   "metadata": {},
   "outputs": [],
   "source": [
    "def save_answers4(count_model2, count_model3):\n",
    "    with open(\"cooking_LDA_pa_task4.txt\", \"w\") as fout:\n",
    "        fout.write(\" \".join([str(el) for el in [count_model2, count_model3]]))"
   ]
  },
  {
   "cell_type": "code",
   "execution_count": 69,
   "metadata": {},
   "outputs": [],
   "source": [
    "save_answers4(sum_4, sum_3)"
   ]
  },
  {
   "cell_type": "markdown",
   "metadata": {},
   "source": [
    "Таким образом, гиперпараметр __alpha__ влияет на разреженность распределений тем в документах. Аналогично гиперпараметр __eta__ влияет на разреженность распределений слов в темах."
   ]
  },
  {
   "cell_type": "markdown",
   "metadata": {},
   "source": [
    "### LDA как способ понижения размерности\n",
    "Иногда, распределения над темами, найденные с помощью LDA, добавляют в матрицу объекты-признаки как дополнительные, семантические, признаки, и это может улучшить качество решения задачи. Для простоты давайте просто обучим классификатор рецептов на кухни на признаках, полученных из LDA, и измерим точность (accuracy).\n",
    "\n",
    "__Задание 5.__ Используйте модель, построенную по сокращенной выборке с alpha по умолчанию (вторую модель). Составьте матрицу $\\Theta = p(t|d)$ вероятностей тем в документах; вы можете использовать тот же метод get_document_topics, а также вектор правильных ответов y (в том же порядке, в котором рецепты идут в переменной recipes). Создайте объект RandomForestClassifier со 100 деревьями, с помощью функции cross_val_score вычислите среднюю accuracy по трем фолдам (перемешивать данные не нужно) и передайте в функцию save_answers5."
   ]
  },
  {
   "cell_type": "code",
   "execution_count": 70,
   "metadata": {},
   "outputs": [
    {
     "name": "stderr",
     "output_type": "stream",
     "text": [
      "C:\\Users\\oldst\\Anaconda2\\lib\\site-packages\\sklearn\\cross_validation.py:41: DeprecationWarning: This module was deprecated in version 0.18 in favor of the model_selection module into which all the refactored classes and functions are moved. Also note that the interface of the new CV iterators are different from that of this module. This module will be removed in 0.20.\n",
      "  \"This module will be removed in 0.20.\", DeprecationWarning)\n"
     ]
    }
   ],
   "source": [
    "from sklearn.ensemble import RandomForestClassifier\n",
    "from sklearn.cross_validation import cross_val_score"
   ]
  },
  {
   "cell_type": "code",
   "execution_count": 71,
   "metadata": {},
   "outputs": [
    {
     "data": {
      "text/plain": [
       "[(5, 0.13074421282132634), (7, 0.5046483400206389), (11, 0.24898244715803372)]"
      ]
     },
     "execution_count": 71,
     "metadata": {},
     "output_type": "execute_result"
    }
   ],
   "source": [
    "lda_2.get_document_topics(corpus2[0])"
   ]
  },
  {
   "cell_type": "code",
   "execution_count": 101,
   "metadata": {},
   "outputs": [],
   "source": [
    "teta = np.zeros((len(corpus2), 40))\n",
    "for index, bow in enumerate(corpus2):\n",
    "    for topic, proba in lda_2.get_document_topics(bow):\n",
    "        teta[index, topic] = proba\n",
    "        \n",
    "y = [recipe['cuisine'] for recipe in recipes]"
   ]
  },
  {
   "cell_type": "code",
   "execution_count": 113,
   "metadata": {},
   "outputs": [
    {
     "name": "stdout",
     "output_type": "stream",
     "text": [
      "0.5587582337521223\n"
     ]
    }
   ],
   "source": [
    "RFC = RandomForestClassifier(n_estimators=100)\n",
    "accuracy = cross_val_score(RFC, teta, y)\n",
    "accuracy = accuracy.mean()\n",
    "print(accuracy)"
   ]
  },
  {
   "cell_type": "code",
   "execution_count": 114,
   "metadata": {},
   "outputs": [],
   "source": [
    "def save_answers5(accuracy):\n",
    "     with open(\"cooking_LDA_pa_task5.txt\", \"w\") as fout:\n",
    "        fout.write(str(accuracy))"
   ]
  },
  {
   "cell_type": "code",
   "execution_count": 115,
   "metadata": {},
   "outputs": [],
   "source": [
    "save_answers5(accuracy)"
   ]
  },
  {
   "cell_type": "markdown",
   "metadata": {},
   "source": [
    "Для такого большого количества классов это неплохая точность. Вы можете попроовать обучать RandomForest на исходной матрице частот слов, имеющей значительно большую размерность, и увидеть, что accuracy увеличивается на 10–15%. Таким образом, LDA собрал не всю, но достаточно большую часть информации из выборки, в матрице низкого ранга."
   ]
  },
  {
   "cell_type": "markdown",
   "metadata": {},
   "source": [
    "### LDA — вероятностная модель\n",
    "Матричное разложение, использующееся в LDA, интерпретируется как следующий процесс генерации документов.\n",
    "\n",
    "Для документа $d$ длины $n_d$:\n",
    "1. Из априорного распределения Дирихле с параметром alpha сгенерировать распределение над множеством тем: $\\theta_d \\sim Dirichlet(\\alpha)$\n",
    "1. Для каждого слова $w = 1, \\dots, n_d$:\n",
    "    1. Сгенерировать тему из дискретного распределения $t \\sim \\theta_{d}$\n",
    "    1. Сгенерировать слово из дискретного распределения $w \\sim \\phi_{t}$.\n",
    "    \n",
    "Подробнее об этом в [Википедии](https://en.wikipedia.org/wiki/Latent_Dirichlet_allocation).\n",
    "\n",
    "В контексте нашей задачи получается, что, используя данный генеративный процесс, можно создавать новые рецепты. Вы можете передать в функцию модель и число ингредиентов и сгенерировать рецепт :)"
   ]
  },
  {
   "cell_type": "code",
   "execution_count": 111,
   "metadata": {},
   "outputs": [],
   "source": [
    "def generate_recipe(model, num_ingredients):\n",
    "    theta = np.random.dirichlet(model.alpha)\n",
    "    for i in range(num_ingredients):\n",
    "        t = np.random.choice(np.arange(model.num_topics), p=theta)\n",
    "        topic = model.show_topic(t, topn=model.num_terms)\n",
    "        topic_distr = [x[1] for x in topic]\n",
    "        terms = [x[0] for x in topic]\n",
    "        w = np.random.choice(terms, p=topic_distr)\n",
    "        print w"
   ]
  },
  {
   "cell_type": "code",
   "execution_count": 117,
   "metadata": {},
   "outputs": [
    {
     "name": "stdout",
     "output_type": "stream",
     "text": [
      "basil\n",
      "smoked bacon\n",
      "rice paper\n",
      "mozzarella cheese\n",
      "crushed garlic\n",
      "mushrooms\n",
      "oil\n",
      "pimentos\n"
     ]
    }
   ],
   "source": [
    "generate_recipe(lda_2, 8)"
   ]
  },
  {
   "cell_type": "markdown",
   "metadata": {},
   "source": [
    "### Интерпретация построенной модели\n",
    "Вы можете рассмотреть топы ингредиентов каждой темы. Большиснтво тем сами по себе похожи на рецепты; в некоторых собираются продукты одного вида, например, свежие фрукты или разные виды сыра.\n",
    "\n",
    "Попробуем эмпирически соотнести наши темы с национальными кухнями (cuisine). Построим матрицу $A$ размера темы $x$ кухни, ее элементы $a_{tc}$ — суммы $p(t|d)$ по всем документам $d$, которые отнесены к кухне $c$. Нормируем матрицу на частоты рецептов по разным кухням, чтобы избежать дисбаланса между кухнями. Следующая функция получает на вход объект модели, объект корпуса и исходные данные и возвращает нормированную матрицу $A$. Ее удобно визуализировать с помощью seaborn."
   ]
  },
  {
   "cell_type": "code",
   "execution_count": 118,
   "metadata": {},
   "outputs": [],
   "source": [
    "import pandas\n",
    "import seaborn\n",
    "from matplotlib import pyplot as plt\n",
    "%matplotlib inline"
   ]
  },
  {
   "cell_type": "code",
   "execution_count": 119,
   "metadata": {},
   "outputs": [],
   "source": [
    "def compute_topic_cuisine_matrix(model, corpus, recipes):\n",
    "    # составляем вектор целевых признаков\n",
    "    targets = list(set([recipe[\"cuisine\"] for recipe in recipes]))\n",
    "    # составляем матрицу\n",
    "    tc_matrix = pandas.DataFrame(data=np.zeros((model.num_topics, len(targets))), columns=targets)\n",
    "    for recipe, bow in zip(recipes, corpus):\n",
    "        recipe_topic = model.get_document_topics(bow)\n",
    "        for t, prob in recipe_topic:\n",
    "            tc_matrix[recipe[\"cuisine\"]][t] += prob\n",
    "    # нормируем матрицу\n",
    "    target_sums = pandas.DataFrame(data=np.zeros((1, len(targets))), columns=targets)\n",
    "    for recipe in recipes:\n",
    "        target_sums[recipe[\"cuisine\"]] += 1\n",
    "    return pandas.DataFrame(tc_matrix.values/target_sums.values, columns=tc_matrix.columns)"
   ]
  },
  {
   "cell_type": "code",
   "execution_count": 120,
   "metadata": {},
   "outputs": [],
   "source": [
    "def plot_matrix(tc_matrix):\n",
    "    plt.figure(figsize=(10, 10))\n",
    "    seaborn.heatmap(tc_matrix, square=True)"
   ]
  },
  {
   "cell_type": "code",
   "execution_count": 123,
   "metadata": {},
   "outputs": [
    {
     "data": {
      "image/png": "[encoded data removed]",
      "text/plain": [
       "<Figure size 720x720 with 2 Axes>"
      ]
     },
     "metadata": {},
     "output_type": "display_data"
    }
   ],
   "source": [
    "# Визуализируйте матрицу\n",
    "plot_matrix(compute_topic_cuisine_matrix(lda_2, corpus2, recipes))"
   ]
  },
  {
   "cell_type": "markdown",
   "metadata": {},
   "source": [
    "Чем темнее квадрат в матрице, тем больше связь этой темы с данной кухней. Мы видим, что у нас есть темы, которые связаны с несколькими кухнями. Такие темы показывают набор ингредиентов, которые популярны в кухнях нескольких народов, то есть указывают на схожесть кухонь этих народов. Некоторые темы распределены по всем кухням равномерно, они показывают наборы продуктов, которые часто используются в кулинарии всех стран. "
   ]
  },
  {
   "cell_type": "markdown",
   "metadata": {},
   "source": [
    "Жаль, что в датасете нет названий рецептов, иначе темы было бы проще интерпретировать..."
   ]
  },
  {
   "cell_type": "markdown",
   "metadata": {},
   "source": [
    "### Заключение\n",
    "В этом задании вы построили несколько моделей LDA, посмотрели, на что влияют гиперпараметры модели и как можно использовать построенную модель. "
   ]
  }
 ],
 "metadata": {
  "kernelspec": {
   "display_name": "Python 2",
   "language": "python",
   "name": "python2"
  },
  "language_info": {
   "codemirror_mode": {
    "name": "ipython",
    "version": 2
   },
   "file_extension": ".py",
   "mimetype": "text/x-python",
   "name": "python",
   "nbconvert_exporter": "python",
   "pygments_lexer": "ipython2",
   "version": "2.7.15"
  }
 },
 "nbformat": 4,
 "nbformat_minor": 1
}
