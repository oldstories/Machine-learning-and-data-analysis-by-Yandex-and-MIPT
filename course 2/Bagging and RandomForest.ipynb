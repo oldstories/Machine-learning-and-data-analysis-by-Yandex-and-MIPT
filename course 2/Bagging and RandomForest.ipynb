{
 "cells": [
  {
   "cell_type": "code",
   "execution_count": 35,
   "metadata": {
    "collapsed": true
   },
   "outputs": [],
   "source": [
    "from matplotlib.colors import ListedColormap\n",
    "from sklearn import cross_validation, datasets, metrics, tree , model_selection\n",
    "import numpy as np"
   ]
  },
  {
   "cell_type": "code",
   "execution_count": 76,
   "metadata": {},
   "outputs": [
    {
     "name": "stdout",
     "output_type": "stream",
     "text": [
      "(1797L, 64L)\n",
      "(1797L,)\n",
      "8.0\n"
     ]
    }
   ],
   "source": [
    "X, y  = datasets.load_digits(return_X_y=True)\n",
    "print(X.shape)\n",
    "print(y.shape)\n",
    "print(np.sqrt(X.shape[1]))"
   ]
  },
  {
   "cell_type": "code",
   "execution_count": 62,
   "metadata": {
    "collapsed": true
   },
   "outputs": [],
   "source": [
    "def check(estimator, X, y):\n",
    "    return sklearn.model_selection.cross_val_score(estimator, X, y, cv=10).mean()\n",
    "\n",
    "def write_answer_1(num):\n",
    "    with open(\"Bagging_and_RandomForest_answer_1.txt\", \"w\") as fout:\n",
    "        fout.write(str(num))"
   ]
  },
  {
   "cell_type": "code",
   "execution_count": 63,
   "metadata": {
    "collapsed": true
   },
   "outputs": [],
   "source": [
    "clf = tree.DecisionTreeClassifier()"
   ]
  },
  {
   "cell_type": "code",
   "execution_count": 64,
   "metadata": {
    "collapsed": true
   },
   "outputs": [],
   "source": [
    "answer = check(clf, X, y)"
   ]
  },
  {
   "cell_type": "code",
   "execution_count": 65,
   "metadata": {},
   "outputs": [
    {
     "name": "stdout",
     "output_type": "stream",
     "text": [
      "0.8325113363721466\n"
     ]
    }
   ],
   "source": [
    "write_answer_1(answer)\n",
    "print(answer)\n",
    "def write_answer_2(num):\n",
    "    with open(\"Bagging_and_RandomForest_answer_2.txt\", \"w\") as fout:\n",
    "        fout.write(str(num))"
   ]
  },
  {
   "cell_type": "code",
   "execution_count": 66,
   "metadata": {
    "collapsed": true
   },
   "outputs": [],
   "source": [
    "from sklearn import ensemble"
   ]
  },
  {
   "cell_type": "code",
   "execution_count": 67,
   "metadata": {
    "collapsed": true
   },
   "outputs": [],
   "source": [
    "Bagging = ensemble.BaggingClassifier(clf, 100)"
   ]
  },
  {
   "cell_type": "code",
   "execution_count": 68,
   "metadata": {
    "collapsed": true
   },
   "outputs": [],
   "source": [
    "answer = check(Bagging, X, y)"
   ]
  },
  {
   "cell_type": "code",
   "execution_count": 69,
   "metadata": {},
   "outputs": [
    {
     "name": "stdout",
     "output_type": "stream",
     "text": [
      "0.9227117157949947\n"
     ]
    }
   ],
   "source": [
    "write_answer_2(answer)\n",
    "print(answer)"
   ]
  },
  {
   "cell_type": "code",
   "execution_count": 70,
   "metadata": {
    "collapsed": true
   },
   "outputs": [],
   "source": [
    "def write_answer_3(num):\n",
    "    with open(\"Bagging_and_RandomForest_answer_3.txt\", \"w\") as fout:\n",
    "        fout.write(str(num))"
   ]
  },
  {
   "cell_type": "code",
   "execution_count": 79,
   "metadata": {},
   "outputs": [
    {
     "name": "stdout",
     "output_type": "stream",
     "text": [
      "0.9287847148433521\n"
     ]
    }
   ],
   "source": [
    "Bagging_2 = ensemble.BaggingClassifier(clf, 100, max_features=int(np.sqrt(X.shape[1])), bootstrap_features=True)\n",
    "answer = check(Bagging_2, X, y)\n",
    "write_answer_3(answer)\n",
    "print(answer)"
   ]
  },
  {
   "cell_type": "code",
   "execution_count": 80,
   "metadata": {
    "collapsed": true
   },
   "outputs": [],
   "source": [
    "def write_answer_4(num):\n",
    "    with open(\"Bagging_and_RandomForest_answer_4.txt\", \"w\") as fout:\n",
    "        fout.write(str(num))"
   ]
  },
  {
   "cell_type": "code",
   "execution_count": 84,
   "metadata": {},
   "outputs": [
    {
     "name": "stdout",
     "output_type": "stream",
     "text": [
      "0.9522660710539432\n"
     ]
    }
   ],
   "source": [
    "clf_2 = tree.DecisionTreeClassifier(max_features=int(np.sqrt(X.shape[1])))\n",
    "Bagging_3 = ensemble.BaggingClassifier(clf_2, 100)\n",
    "answer = check(Bagging_3, X, y)\n",
    "write_answer_4(answer)\n",
    "print(answer)"
   ]
  },
  {
   "cell_type": "code",
   "execution_count": 85,
   "metadata": {
    "collapsed": true
   },
   "outputs": [],
   "source": [
    "def write_answer_5(num):\n",
    "    with open(\"Bagging_and_RandomForest_answer_5.txt\", \"w\") as fout:\n",
    "        fout.write(str(num))"
   ]
  },
  {
   "cell_type": "code",
   "execution_count": 111,
   "metadata": {},
   "outputs": [
    {
     "name": "stdout",
     "output_type": "stream",
     "text": [
      "0.9544386995502563\n"
     ]
    }
   ],
   "source": [
    "RFC = ensemble.RandomForestClassifier(100, max_features=5)\n",
    "answer = check(RFC, X, y)\n",
    "print(answer)"
   ]
  },
  {
   "cell_type": "code",
   "execution_count": 116,
   "metadata": {
    "collapsed": true
   },
   "outputs": [],
   "source": [
    "write_answer_5()#2, 3, 4, 7"
   ]
  },
  {
   "cell_type": "code",
   "execution_count": null,
   "metadata": {
    "collapsed": true
   },
   "outputs": [],
   "source": []
  }
 ],
 "metadata": {
  "kernelspec": {
   "display_name": "Python 3",
   "language": "python",
   "name": "python3"
  },
  "language_info": {
   "codemirror_mode": {
    "name": "ipython",
    "version": 3
   },
   "file_extension": ".py",
   "mimetype": "text/x-python",
   "name": "python",
   "nbconvert_exporter": "python",
   "pygments_lexer": "ipython3",
   "version": "3.6.2"
  }
 },
 "nbformat": 4,
 "nbformat_minor": 2
}
