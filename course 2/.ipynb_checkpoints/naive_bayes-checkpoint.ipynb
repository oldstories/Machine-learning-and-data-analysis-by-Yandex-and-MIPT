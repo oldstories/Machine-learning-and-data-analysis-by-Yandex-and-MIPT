{
 "cells": [
  {
   "cell_type": "code",
   "execution_count": 32,
   "metadata": {},
   "outputs": [],
   "source": [
    "import pandas as pd\n",
    "from sklearn import cross_validation, datasets, metrics, tree , model_selection, ensemble, naive_bayes\n",
    "import numpy as np\n",
    "from matplotlib import pyplot as plt\n",
    "%matplotlib inline\n",
    "import sklearn"
   ]
  },
  {
   "cell_type": "code",
   "execution_count": 42,
   "metadata": {},
   "outputs": [],
   "source": [
    "X_digits, y_digits  = datasets.load_digits(return_X_y=True)\n",
    "X_cancer, y_cancer  = datasets.load_breast_cancer(return_X_y=True)"
   ]
  },
  {
   "cell_type": "code",
   "execution_count": 34,
   "metadata": {},
   "outputs": [],
   "source": [
    "first=sklearn.naive_bayes.BernoulliNB()\n",
    "second=sklearn.naive_bayes.MultinomialNB()\n",
    "third=sklearn.naive_bayes.GaussianNB()"
   ]
  },
  {
   "cell_type": "code",
   "execution_count": 36,
   "metadata": {},
   "outputs": [
    {
     "data": {
      "text/plain": [
       "GaussianNB(priors=None)"
      ]
     },
     "execution_count": 36,
     "metadata": {},
     "output_type": "execute_result"
    }
   ],
   "source": [
    "first.fit(X_digits, y_digits)\n",
    "second.fit(X_digits, y_digits)\n",
    "third.fit(X_digits, y_digits)"
   ]
  },
  {
   "cell_type": "code",
   "execution_count": 37,
   "metadata": {},
   "outputs": [
    {
     "name": "stdout",
     "output_type": "stream",
     "text": [
      "0.8258236507780582\n",
      "0.8708771489735053\n",
      "0.8186003803550138\n"
     ]
    }
   ],
   "source": [
    "print(sklearn.cross_validation.cross_val_score(first, X_digits, y_digits).mean())\n",
    "print(sklearn.cross_validation.cross_val_score(second, X_digits, y_digits).mean())\n",
    "print(sklearn.cross_validation.cross_val_score(third, X_digits, y_digits).mean())"
   ]
  },
  {
   "cell_type": "code",
   "execution_count": 38,
   "metadata": {},
   "outputs": [],
   "source": [
    "X_digits, y_digits  = datasets.load_digits(return_X_y=True)\n",
    "X_cancer, y_cancer  = datasets.load_breast_cancer(return_X_y=True)"
   ]
  },
  {
   "cell_type": "code",
   "execution_count": 39,
   "metadata": {},
   "outputs": [],
   "source": [
    "first_=sklearn.naive_bayes.BernoulliNB()\n",
    "second_=sklearn.naive_bayes.MultinomialNB()\n",
    "third_=sklearn.naive_bayes.GaussianNB()"
   ]
  },
  {
   "cell_type": "code",
   "execution_count": 40,
   "metadata": {},
   "outputs": [
    {
     "name": "stdout",
     "output_type": "stream",
     "text": [
      "0.6274204028589994\n",
      "0.8945790401930752\n",
      "0.9367492806089297\n"
     ]
    }
   ],
   "source": [
    "print(sklearn.cross_validation.cross_val_score(first_, X_cancer, y_cancer).mean())\n",
    "print(sklearn.cross_validation.cross_val_score(second_, X_cancer, y_cancer).mean())\n",
    "print(sklearn.cross_validation.cross_val_score(third_, X_cancer, y_cancer).mean())"
   ]
  },
  {
   "cell_type": "code",
   "execution_count": null,
   "metadata": {},
   "outputs": [],
   "source": []
  }
 ],
 "metadata": {
  "kernelspec": {
   "display_name": "Python 2",
   "language": "python",
   "name": "python2"
  },
  "language_info": {
   "codemirror_mode": {
    "name": "ipython",
    "version": 2
   },
   "file_extension": ".py",
   "mimetype": "text/x-python",
   "name": "python",
   "nbconvert_exporter": "python",
   "pygments_lexer": "ipython2",
   "version": "2.7.15"
  }
 },
 "nbformat": 4,
 "nbformat_minor": 2
}
