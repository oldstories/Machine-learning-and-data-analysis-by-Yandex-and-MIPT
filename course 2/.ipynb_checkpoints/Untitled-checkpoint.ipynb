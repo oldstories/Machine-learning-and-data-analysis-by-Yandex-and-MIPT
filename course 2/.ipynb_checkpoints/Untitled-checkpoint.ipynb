{
 "cells": [
  {
   "cell_type": "code",
   "execution_count": 20,
   "metadata": {},
   "outputs": [],
   "source": [
    "from matplotlib.colors import ListedColormap\n",
    "from sklearn import cross_validation, datasets, metrics, tree , model_selection, neighbors, ensemble\n",
    "from sklearn.cross_validation import train_test_split\n",
    "import numpy as np\n",
    "from sklearn.metrics import precision_score, recall_score, accuracy_score\n",
    "X, y  = datasets.load_digits(return_X_y=True)\n",
    "\n",
    "#(X_train, X_test) = train_test_split(X, test_size=0.25, random_state=0)\n",
    "#(y_train, y_test) = train_test_split(y, test_size=0.25, random_state=0)\n",
    "\n",
    "X_train, X_test, y_train, y_test = model_selection.train_test_split(X, y, test_size=0.25, shuffle=False)"
   ]
  },
  {
   "cell_type": "code",
   "execution_count": 23,
   "metadata": {},
   "outputs": [
    {
     "name": "stdout",
     "output_type": "stream",
     "text": [
      "0.9622222222222222\n",
      "0.0377777777777778\n"
     ]
    }
   ],
   "source": [
    "from sklearn.neighbors import KNeighborsClassifier\n",
    "neigh = neighbors.KNeighborsClassifier(n_neighbors=1,  p=2, metric='minkowski')\n",
    "neigh.fit(X_train, y_train)\n",
    "print(neigh.score(X_test, y_test))\n",
    "res = neigh.predict(X_test)\n",
    "print(1 - metrics.accuracy_score(y_test, res))"
   ]
  },
  {
   "cell_type": "code",
   "execution_count": 24,
   "metadata": {},
   "outputs": [
    {
     "name": "stdout",
     "output_type": "stream",
     "text": [
      "0.9355555555555556\n",
      "0.06444444444444442\n"
     ]
    }
   ],
   "source": [
    "RFC = ensemble.RandomForestClassifier(n_estimators=1000)\n",
    "RFC.fit(X_train, y_train)\n",
    "print(RFC.score(X_test, y_test))\n",
    "res = RFC.predict(X_test)\n",
    "print(1 - metrics.accuracy_score(y_test, res))"
   ]
  },
  {
   "cell_type": "code",
   "execution_count": null,
   "metadata": {},
   "outputs": [],
   "source": []
  }
 ],
 "metadata": {
  "kernelspec": {
   "display_name": "Python 2",
   "language": "python",
   "name": "python2"
  },
  "language_info": {
   "codemirror_mode": {
    "name": "ipython",
    "version": 2
   },
   "file_extension": ".py",
   "mimetype": "text/x-python",
   "name": "python",
   "nbconvert_exporter": "python",
   "pygments_lexer": "ipython2",
   "version": "2.7.15"
  }
 },
 "nbformat": 4,
 "nbformat_minor": 2
}
